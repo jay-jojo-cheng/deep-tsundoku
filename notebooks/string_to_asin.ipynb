{
 "cells": [
  {
   "cell_type": "markdown",
   "metadata": {},
   "source": [
    "# Phase 0.5 lookup ASIN from phase 0 title strings"
   ]
  },
  {
   "cell_type": "code",
   "execution_count": 1,
   "metadata": {},
   "outputs": [
    {
     "name": "stderr",
     "output_type": "stream",
     "text": [
      "/home/jojo/anaconda3/envs/semantic-search/lib/python3.9/site-packages/tqdm/auto.py:22: TqdmWarning: IProgress not found. Please update jupyter and ipywidgets. See https://ipywidgets.readthedocs.io/en/stable/user_install.html\n",
      "  from .autonotebook import tqdm as notebook_tqdm\n"
     ]
    }
   ],
   "source": [
    "import numpy as np\n",
    "import pandas as pd\n",
    "\n",
    "from sentence_transformers import SentenceTransformer\n",
    "from sklearn.metrics.pairwise import cosine_similarity"
   ]
  },
  {
   "cell_type": "markdown",
   "metadata": {},
   "source": [
    "### Load and process data"
   ]
  },
  {
   "cell_type": "code",
   "execution_count": 2,
   "metadata": {},
   "outputs": [
    {
     "data": {
      "text/html": [
       "<div>\n",
       "<style scoped>\n",
       "    .dataframe tbody tr th:only-of-type {\n",
       "        vertical-align: middle;\n",
       "    }\n",
       "\n",
       "    .dataframe tbody tr th {\n",
       "        vertical-align: top;\n",
       "    }\n",
       "\n",
       "    .dataframe thead th {\n",
       "        text-align: right;\n",
       "    }\n",
       "</style>\n",
       "<table border=\"1\" class=\"dataframe\">\n",
       "  <thead>\n",
       "    <tr style=\"text-align: right;\">\n",
       "      <th></th>\n",
       "      <th>asin</th>\n",
       "      <th>title</th>\n",
       "      <th>0</th>\n",
       "      <th>1</th>\n",
       "      <th>2</th>\n",
       "      <th>3</th>\n",
       "      <th>4</th>\n",
       "      <th>5</th>\n",
       "      <th>6</th>\n",
       "      <th>7</th>\n",
       "    </tr>\n",
       "  </thead>\n",
       "  <tbody>\n",
       "    <tr>\n",
       "      <th>0</th>\n",
       "      <td>080102563x</td>\n",
       "      <td>choosing the good: christian ethics in a compl...</td>\n",
       "      <td>-2.060097</td>\n",
       "      <td>0.704931</td>\n",
       "      <td>-0.306748</td>\n",
       "      <td>-0.152604</td>\n",
       "      <td>-0.561663</td>\n",
       "      <td>-0.601592</td>\n",
       "      <td>0.164375</td>\n",
       "      <td>0.883133</td>\n",
       "    </tr>\n",
       "    <tr>\n",
       "      <th>1</th>\n",
       "      <td>0801048869</td>\n",
       "      <td>beginning biblical hebrew: a grammar and illus...</td>\n",
       "      <td>-2.105482</td>\n",
       "      <td>0.698176</td>\n",
       "      <td>-0.207842</td>\n",
       "      <td>-0.029184</td>\n",
       "      <td>-1.306253</td>\n",
       "      <td>-0.800488</td>\n",
       "      <td>0.203011</td>\n",
       "      <td>1.014983</td>\n",
       "    </tr>\n",
       "    <tr>\n",
       "      <th>2</th>\n",
       "      <td>0310331366</td>\n",
       "      <td>five views on biblical inerrancy (counterpoint...</td>\n",
       "      <td>-1.680703</td>\n",
       "      <td>0.842620</td>\n",
       "      <td>-0.148897</td>\n",
       "      <td>-0.007306</td>\n",
       "      <td>-1.089476</td>\n",
       "      <td>-1.006622</td>\n",
       "      <td>0.263047</td>\n",
       "      <td>1.188486</td>\n",
       "    </tr>\n",
       "    <tr>\n",
       "      <th>3</th>\n",
       "      <td>0199751811</td>\n",
       "      <td>good god: the theistic foundations of morality</td>\n",
       "      <td>-1.165233</td>\n",
       "      <td>0.721346</td>\n",
       "      <td>-0.341000</td>\n",
       "      <td>-0.014560</td>\n",
       "      <td>-0.540818</td>\n",
       "      <td>-1.027589</td>\n",
       "      <td>0.261891</td>\n",
       "      <td>1.175774</td>\n",
       "    </tr>\n",
       "    <tr>\n",
       "      <th>4</th>\n",
       "      <td>0801020751</td>\n",
       "      <td>evangelical dictionary of theology (baker refe...</td>\n",
       "      <td>-1.529123</td>\n",
       "      <td>0.907699</td>\n",
       "      <td>0.054865</td>\n",
       "      <td>-0.365376</td>\n",
       "      <td>-0.530953</td>\n",
       "      <td>-0.455765</td>\n",
       "      <td>0.208765</td>\n",
       "      <td>1.073318</td>\n",
       "    </tr>\n",
       "    <tr>\n",
       "      <th>...</th>\n",
       "      <td>...</td>\n",
       "      <td>...</td>\n",
       "      <td>...</td>\n",
       "      <td>...</td>\n",
       "      <td>...</td>\n",
       "      <td>...</td>\n",
       "      <td>...</td>\n",
       "      <td>...</td>\n",
       "      <td>...</td>\n",
       "      <td>...</td>\n",
       "    </tr>\n",
       "    <tr>\n",
       "      <th>1948349</th>\n",
       "      <td>155143184x</td>\n",
       "      <td>hoop crazy (orca young readers)</td>\n",
       "      <td>0.051233</td>\n",
       "      <td>0.002376</td>\n",
       "      <td>0.001270</td>\n",
       "      <td>0.004447</td>\n",
       "      <td>-0.048116</td>\n",
       "      <td>-0.013463</td>\n",
       "      <td>0.002934</td>\n",
       "      <td>-0.027920</td>\n",
       "    </tr>\n",
       "    <tr>\n",
       "      <th>1948352</th>\n",
       "      <td>0786670592</td>\n",
       "      <td>mel bay the mike marshall collection</td>\n",
       "      <td>-0.006899</td>\n",
       "      <td>-0.019441</td>\n",
       "      <td>0.053731</td>\n",
       "      <td>-0.056021</td>\n",
       "      <td>-0.033487</td>\n",
       "      <td>-0.047119</td>\n",
       "      <td>-0.010390</td>\n",
       "      <td>-0.041309</td>\n",
       "    </tr>\n",
       "    <tr>\n",
       "      <th>1948353</th>\n",
       "      <td>1592989985</td>\n",
       "      <td>mortal sin on my soul</td>\n",
       "      <td>-0.057517</td>\n",
       "      <td>0.051523</td>\n",
       "      <td>-0.035692</td>\n",
       "      <td>0.000907</td>\n",
       "      <td>0.053827</td>\n",
       "      <td>-0.010300</td>\n",
       "      <td>-0.045477</td>\n",
       "      <td>-0.038969</td>\n",
       "    </tr>\n",
       "    <tr>\n",
       "      <th>1948360</th>\n",
       "      <td>1935012061</td>\n",
       "      <td>power praying</td>\n",
       "      <td>-0.030925</td>\n",
       "      <td>0.015265</td>\n",
       "      <td>-0.055316</td>\n",
       "      <td>-0.005189</td>\n",
       "      <td>-0.022569</td>\n",
       "      <td>-0.005096</td>\n",
       "      <td>-0.059616</td>\n",
       "      <td>0.017718</td>\n",
       "    </tr>\n",
       "    <tr>\n",
       "      <th>1948364</th>\n",
       "      <td>0809226189</td>\n",
       "      <td>woman's body: an owner's manual (wordsworth bo...</td>\n",
       "      <td>0.013690</td>\n",
       "      <td>-0.031647</td>\n",
       "      <td>0.027367</td>\n",
       "      <td>0.014937</td>\n",
       "      <td>-0.041136</td>\n",
       "      <td>-0.031475</td>\n",
       "      <td>0.061026</td>\n",
       "      <td>0.005861</td>\n",
       "    </tr>\n",
       "  </tbody>\n",
       "</table>\n",
       "<p>979707 rows × 10 columns</p>\n",
       "</div>"
      ],
      "text/plain": [
       "               asin                                              title  \\\n",
       "0        080102563x  choosing the good: christian ethics in a compl...   \n",
       "1        0801048869  beginning biblical hebrew: a grammar and illus...   \n",
       "2        0310331366  five views on biblical inerrancy (counterpoint...   \n",
       "3        0199751811     good god: the theistic foundations of morality   \n",
       "4        0801020751  evangelical dictionary of theology (baker refe...   \n",
       "...             ...                                                ...   \n",
       "1948349  155143184x                    hoop crazy (orca young readers)   \n",
       "1948352  0786670592               mel bay the mike marshall collection   \n",
       "1948353  1592989985                              mortal sin on my soul   \n",
       "1948360  1935012061                                      power praying   \n",
       "1948364  0809226189  woman's body: an owner's manual (wordsworth bo...   \n",
       "\n",
       "                0         1         2         3         4         5         6  \\\n",
       "0       -2.060097  0.704931 -0.306748 -0.152604 -0.561663 -0.601592  0.164375   \n",
       "1       -2.105482  0.698176 -0.207842 -0.029184 -1.306253 -0.800488  0.203011   \n",
       "2       -1.680703  0.842620 -0.148897 -0.007306 -1.089476 -1.006622  0.263047   \n",
       "3       -1.165233  0.721346 -0.341000 -0.014560 -0.540818 -1.027589  0.261891   \n",
       "4       -1.529123  0.907699  0.054865 -0.365376 -0.530953 -0.455765  0.208765   \n",
       "...           ...       ...       ...       ...       ...       ...       ...   \n",
       "1948349  0.051233  0.002376  0.001270  0.004447 -0.048116 -0.013463  0.002934   \n",
       "1948352 -0.006899 -0.019441  0.053731 -0.056021 -0.033487 -0.047119 -0.010390   \n",
       "1948353 -0.057517  0.051523 -0.035692  0.000907  0.053827 -0.010300 -0.045477   \n",
       "1948360 -0.030925  0.015265 -0.055316 -0.005189 -0.022569 -0.005096 -0.059616   \n",
       "1948364  0.013690 -0.031647  0.027367  0.014937 -0.041136 -0.031475  0.061026   \n",
       "\n",
       "                7  \n",
       "0        0.883133  \n",
       "1        1.014983  \n",
       "2        1.188486  \n",
       "3        1.175774  \n",
       "4        1.073318  \n",
       "...           ...  \n",
       "1948349 -0.027920  \n",
       "1948352 -0.041309  \n",
       "1948353 -0.038969  \n",
       "1948360  0.017718  \n",
       "1948364  0.005861  \n",
       "\n",
       "[979707 rows x 10 columns]"
      ]
     },
     "execution_count": 2,
     "metadata": {},
     "output_type": "execute_result"
    }
   ],
   "source": [
    "df = pd.read_csv('../data/books_emb_8_tidy.csv').dropna()\n",
    "df"
   ]
  },
  {
   "cell_type": "code",
   "execution_count": 3,
   "metadata": {},
   "outputs": [
    {
     "data": {
      "text/plain": [
       "0    choosing the good christian ethics in a comple...\n",
       "1    beginning biblical hebrew a grammar and illust...\n",
       "2    five views on biblical inerrancy counterpoints...\n",
       "3        good god the theistic foundations of morality\n",
       "4    evangelical dictionary of theology baker refer...\n",
       "Name: processed_titles, dtype: object"
      ]
     },
     "execution_count": 3,
     "metadata": {},
     "output_type": "execute_result"
    }
   ],
   "source": [
    "# process the data\n",
    "import string\n",
    "import re\n",
    "\n",
    "def normalize_whitespace(str):\n",
    "    str = str.strip()\n",
    "    str = re.sub(r'\\s+', ' ', str)\n",
    "    return str\n",
    "\n",
    "df['processed_titles'] = [(normalize_whitespace(title).translate(str.maketrans('', '', string.punctuation))) for title in df['title']]\n",
    "df['processed_titles'].head()"
   ]
  },
  {
   "cell_type": "markdown",
   "metadata": {},
   "source": [
    "### Embed titles with a multilingual distilbert"
   ]
  },
  {
   "cell_type": "code",
   "execution_count": 4,
   "metadata": {},
   "outputs": [],
   "source": [
    "model = SentenceTransformer('sentence-transformers/distiluse-base-multilingual-cased-v2')"
   ]
  },
  {
   "cell_type": "code",
   "execution_count": 8,
   "metadata": {},
   "outputs": [],
   "source": [
    "# encode all the book title strings - takes about 8 min on my newish CPU\n",
    "# embeddings_distilbert = model.encode(df['processed_titles'].values)\n",
    "\n",
    "# I've saved these, so we can just load them\n",
    "embeddings_distilbert = np.load(\"/home/jojo/Downloads/title_matching_embeddings.npy\") # change the path to your download location"
   ]
  },
  {
   "cell_type": "markdown",
   "metadata": {},
   "source": [
    "### Embed candidate string"
   ]
  },
  {
   "cell_type": "code",
   "execution_count": 83,
   "metadata": {},
   "outputs": [],
   "source": [
    "query_strings = [\"crime and punishment dostoevsky\", \"harry potter and the prisoner\"]\n",
    "query_embeddings = [model.encode([s]) for s in query_strings]"
   ]
  },
  {
   "cell_type": "markdown",
   "metadata": {},
   "source": [
    "### Find entries similar to candidate"
   ]
  },
  {
   "cell_type": "code",
   "execution_count": 77,
   "metadata": {},
   "outputs": [],
   "source": [
    "def return_k_similar(query_embeddings, reference_embeddings, k=1):\n",
    "    res = np.array([])\n",
    "    for query in query_embeddings:\n",
    "        similarity_mat = cosine_similarity(query, reference_embeddings)\n",
    "        similarity_score = similarity_mat[0]\n",
    "        if k == 1:\n",
    "            res = np.append(res, np.argmax(similarity_score).reshape(1, -1))\n",
    "        elif k is not None:\n",
    "            res = np.append(res, np.flip(similarity_score.argsort()[-k:][::1]).reshape(1, -1))\n",
    "    return res"
   ]
  },
  {
   "cell_type": "code",
   "execution_count": 98,
   "metadata": {},
   "outputs": [],
   "source": [
    "# k is number of titles to extract\n",
    "def title_to_asin(query_strings, reference_embeddings, model, k=1) -> str:\n",
    "    query_embeddings = [model.encode([s]) for s in query_strings]\n",
    "    similar_item_idx = return_k_similar(query_embeddings, reference_embeddings, k)\n",
    "    return df.iloc[similar_item_idx, ][['asin', 'processed_titles']]"
   ]
  },
  {
   "cell_type": "code",
   "execution_count": 100,
   "metadata": {},
   "outputs": [
    {
     "data": {
      "text/html": [
       "<div>\n",
       "<style scoped>\n",
       "    .dataframe tbody tr th:only-of-type {\n",
       "        vertical-align: middle;\n",
       "    }\n",
       "\n",
       "    .dataframe tbody tr th {\n",
       "        vertical-align: top;\n",
       "    }\n",
       "\n",
       "    .dataframe thead th {\n",
       "        text-align: right;\n",
       "    }\n",
       "</style>\n",
       "<table border=\"1\" class=\"dataframe\">\n",
       "  <thead>\n",
       "    <tr style=\"text-align: right;\">\n",
       "      <th></th>\n",
       "      <th>asin</th>\n",
       "      <th>processed_titles</th>\n",
       "    </tr>\n",
       "  </thead>\n",
       "  <tbody>\n",
       "    <tr>\n",
       "      <th>317533</th>\n",
       "      <td>1604596902</td>\n",
       "      <td>crime and punishment</td>\n",
       "    </tr>\n",
       "    <tr>\n",
       "      <th>1554500</th>\n",
       "      <td>8532512062</td>\n",
       "      <td>harry potter e o prisioneiro de azkaban</td>\n",
       "    </tr>\n",
       "  </tbody>\n",
       "</table>\n",
       "</div>"
      ],
      "text/plain": [
       "               asin                         processed_titles\n",
       "317533   1604596902                     crime and punishment\n",
       "1554500  8532512062  harry potter e o prisioneiro de azkaban"
      ]
     },
     "execution_count": 100,
     "metadata": {},
     "output_type": "execute_result"
    }
   ],
   "source": [
    "title_to_asin(query_strings, embeddings_distilbert, model, k=1)"
   ]
  },
  {
   "cell_type": "code",
   "execution_count": 45,
   "metadata": {},
   "outputs": [],
   "source": [
    "# np.save(file=\"title_matching_embeddings.npy\", arr=embeddings_distilbert)"
   ]
  },
  {
   "cell_type": "code",
   "execution_count": 103,
   "metadata": {},
   "outputs": [
    {
     "data": {
      "text/plain": [
       "(979707, 512)"
      ]
     },
     "execution_count": 103,
     "metadata": {},
     "output_type": "execute_result"
    }
   ],
   "source": [
    "embeddings_distilbert.shape"
   ]
  },
  {
   "cell_type": "code",
   "execution_count": null,
   "metadata": {},
   "outputs": [],
   "source": []
  }
 ],
 "metadata": {
  "kernelspec": {
   "display_name": "Python 3.9.13 ('semantic-search')",
   "language": "python",
   "name": "python3"
  },
  "language_info": {
   "codemirror_mode": {
    "name": "ipython",
    "version": 3
   },
   "file_extension": ".py",
   "mimetype": "text/x-python",
   "name": "python",
   "nbconvert_exporter": "python",
   "pygments_lexer": "ipython3",
   "version": "3.9.13"
  },
  "vscode": {
   "interpreter": {
    "hash": "5b55155e66855a11910a767d576a87649c127af4aeb1d04149005a34ea39085a"
   }
  }
 },
 "nbformat": 4,
 "nbformat_minor": 4
}
