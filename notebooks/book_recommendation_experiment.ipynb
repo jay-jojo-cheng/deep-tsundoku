{
 "cells": [
  {
   "cell_type": "markdown",
   "source": [
    "# Book Recommendation Experiment"
   ],
   "metadata": {
    "collapsed": false,
    "pycharm": {
     "name": "#%% md\n"
    }
   }
  },
  {
   "cell_type": "markdown",
   "source": [
    "To directly download datasets from Kaggle in the notebook, follow the instructions [here](https://towardsdatascience.com/downloading-datasets-from-kaggle-for-your-ml-project-b9120d405ea4). You will need to define the `KAGGLE_USERNAME` and `KAGGLE_KEY` environment variables."
   ],
   "metadata": {
    "collapsed": false,
    "pycharm": {
     "name": "#%% md\n"
    }
   }
  },
  {
   "cell_type": "code",
   "execution_count": 245,
   "outputs": [
    {
     "name": "stdout",
     "output_type": "stream",
     "text": [
      "Collecting transformers==4.22.2\r\n",
      "  Downloading transformers-4.22.2-py3-none-any.whl (4.9 MB)\r\n",
      "\u001B[2K     \u001B[90m━━━━━━━━━━━━━━━━━━━━━━━━━━━━━━━━━━━━━━━━\u001B[0m \u001B[32m4.9/4.9 MB\u001B[0m \u001B[31m7.6 MB/s\u001B[0m eta \u001B[36m0:00:00\u001B[0m00:01\u001B[0m00:01\u001B[0mm\r\n",
      "\u001B[?25hCollecting tokenizers!=0.11.3,<0.13,>=0.11.1\r\n",
      "  Downloading tokenizers-0.12.1-cp39-cp39-macosx_10_11_x86_64.whl (3.6 MB)\r\n",
      "\u001B[2K     \u001B[90m━━━━━━━━━━━━━━━━━━━━━━━━━━━━━━━━━━━━━━━━\u001B[0m \u001B[32m3.6/3.6 MB\u001B[0m \u001B[31m7.8 MB/s\u001B[0m eta \u001B[36m0:00:00\u001B[0m00:01\u001B[0m00:01\u001B[0mm\r\n",
      "\u001B[?25hRequirement already satisfied: pyyaml>=5.1 in /Users/ines.pedro/Code/full-stack-deep-learning/deep-tsundoku/venv/lib/python3.9/site-packages (from transformers==4.22.2) (6.0)\r\n",
      "Requirement already satisfied: packaging>=20.0 in /Users/ines.pedro/Code/full-stack-deep-learning/deep-tsundoku/venv/lib/python3.9/site-packages (from transformers==4.22.2) (21.3)\r\n",
      "Requirement already satisfied: tqdm>=4.27 in /Users/ines.pedro/Code/full-stack-deep-learning/deep-tsundoku/venv/lib/python3.9/site-packages (from transformers==4.22.2) (4.64.1)\r\n",
      "Collecting huggingface-hub<1.0,>=0.9.0\r\n",
      "  Downloading huggingface_hub-0.10.0-py3-none-any.whl (163 kB)\r\n",
      "\u001B[2K     \u001B[90m━━━━━━━━━━━━━━━━━━━━━━━━━━━━━━━━━━━━━━━\u001B[0m \u001B[32m163.5/163.5 kB\u001B[0m \u001B[31m5.4 MB/s\u001B[0m eta \u001B[36m0:00:00\u001B[0m\r\n",
      "\u001B[?25hRequirement already satisfied: numpy>=1.17 in /Users/ines.pedro/Code/full-stack-deep-learning/deep-tsundoku/venv/lib/python3.9/site-packages (from transformers==4.22.2) (1.23.3)\r\n",
      "Requirement already satisfied: filelock in /Users/ines.pedro/Code/full-stack-deep-learning/deep-tsundoku/venv/lib/python3.9/site-packages (from transformers==4.22.2) (3.8.0)\r\n",
      "Collecting regex!=2019.12.17\r\n",
      "  Downloading regex-2022.9.13-cp39-cp39-macosx_10_9_x86_64.whl (293 kB)\r\n",
      "\u001B[2K     \u001B[90m━━━━━━━━━━━━━━━━━━━━━━━━━━━━━━━━━━━━━━━\u001B[0m \u001B[32m293.9/293.9 kB\u001B[0m \u001B[31m3.4 MB/s\u001B[0m eta \u001B[36m0:00:00\u001B[0m00:01\u001B[0m00:01\u001B[0m\r\n",
      "\u001B[?25hRequirement already satisfied: requests in /Users/ines.pedro/Code/full-stack-deep-learning/deep-tsundoku/venv/lib/python3.9/site-packages (from transformers==4.22.2) (2.28.1)\r\n",
      "Requirement already satisfied: typing-extensions>=3.7.4.3 in /Users/ines.pedro/Code/full-stack-deep-learning/deep-tsundoku/venv/lib/python3.9/site-packages (from huggingface-hub<1.0,>=0.9.0->transformers==4.22.2) (4.3.0)\r\n",
      "Requirement already satisfied: pyparsing!=3.0.5,>=2.0.2 in /Users/ines.pedro/Code/full-stack-deep-learning/deep-tsundoku/venv/lib/python3.9/site-packages (from packaging>=20.0->transformers==4.22.2) (3.0.9)\r\n",
      "Requirement already satisfied: idna<4,>=2.5 in /Users/ines.pedro/Code/full-stack-deep-learning/deep-tsundoku/venv/lib/python3.9/site-packages (from requests->transformers==4.22.2) (3.4)\r\n",
      "Requirement already satisfied: urllib3<1.27,>=1.21.1 in /Users/ines.pedro/Code/full-stack-deep-learning/deep-tsundoku/venv/lib/python3.9/site-packages (from requests->transformers==4.22.2) (1.26.12)\r\n",
      "Requirement already satisfied: charset-normalizer<3,>=2 in /Users/ines.pedro/Code/full-stack-deep-learning/deep-tsundoku/venv/lib/python3.9/site-packages (from requests->transformers==4.22.2) (2.1.1)\r\n",
      "Requirement already satisfied: certifi>=2017.4.17 in /Users/ines.pedro/Code/full-stack-deep-learning/deep-tsundoku/venv/lib/python3.9/site-packages (from requests->transformers==4.22.2) (2022.9.24)\r\n",
      "Installing collected packages: tokenizers, regex, huggingface-hub, transformers\r\n",
      "Successfully installed huggingface-hub-0.10.0 regex-2022.9.13 tokenizers-0.12.1 transformers-4.22.2\r\n"
     ]
    }
   ],
   "source": [
    "# !pip install opendatasets  # To download datasets directly from kaggle\n",
    "# !pip install pandarallel\n",
    "# !pip install fasttext  # for detecting the language in which texts are written. version '0.9.2'\n",
    "# !pip install transformers==4.22.2  # for embedding texts"
   ],
   "metadata": {
    "collapsed": false,
    "pycharm": {
     "name": "#%%\n"
    }
   }
  },
  {
   "cell_type": "code",
   "execution_count": 1,
   "outputs": [],
   "source": [
    "import os\n",
    "from typing import Optional, List, Dict, Any, Tuple, Union\n",
    "\n",
    "import fasttext\n",
    "import numpy as np\n",
    "import opendatasets as od\n",
    "import pandas as pd\n",
    "import requests\n",
    "import torch\n",
    "from pandarallel import pandarallel\n",
    "from tqdm import trange\n",
    "from transformers import AutoTokenizer, AutoModel, AutoConfig"
   ],
   "metadata": {
    "collapsed": false,
    "pycharm": {
     "name": "#%%\n"
    }
   }
  },
  {
   "cell_type": "code",
   "execution_count": 75,
   "outputs": [
    {
     "name": "stdout",
     "output_type": "stream",
     "text": [
      "INFO: Pandarallel will run on 4 workers.\n",
      "INFO: Pandarallel will use standard multiprocessing data transfer (pipe) to transfer data between the main process and workers.\n"
     ]
    }
   ],
   "source": [
    "pandarallel.initialize(progress_bar=True)"
   ],
   "metadata": {
    "collapsed": false,
    "pycharm": {
     "name": "#%%\n"
    }
   }
  },
  {
   "cell_type": "code",
   "execution_count": 9,
   "outputs": [
    {
     "name": "stdout",
     "output_type": "stream",
     "text": [
      "Please provide your Kaggle credentials to download this dataset. Learn more: http://bit.ly/kaggle-creds\n",
      "Your Kaggle username:Your Kaggle Key:Downloading goodreads-book-datasets-10m.zip to ./goodreads-book-datasets-10m\n"
     ]
    },
    {
     "name": "stderr",
     "output_type": "stream",
     "text": [
      "100%|██████████| 460M/460M [01:02<00:00, 7.75MB/s] \n"
     ]
    },
    {
     "name": "stdout",
     "output_type": "stream",
     "text": [
      "\n"
     ]
    }
   ],
   "source": [
    "od.download(\"https://www.kaggle.com/datasets/bahramjannesarr/goodreads-book-datasets-10m/download?datasetVersionNumber=18\")"
   ],
   "metadata": {
    "collapsed": false,
    "pycharm": {
     "name": "#%%\n"
    }
   }
  },
  {
   "cell_type": "markdown",
   "source": [],
   "metadata": {
    "collapsed": false,
    "pycharm": {
     "name": "#%% md\n"
    }
   }
  },
  {
   "cell_type": "markdown",
   "source": [
    "## Load all books"
   ],
   "metadata": {
    "collapsed": false,
    "pycharm": {
     "name": "#%% md\n"
    }
   }
  },
  {
   "cell_type": "code",
   "execution_count": 156,
   "outputs": [
    {
     "data": {
      "text/plain": "1850310"
     },
     "execution_count": 156,
     "metadata": {},
     "output_type": "execute_result"
    }
   ],
   "source": [
    "book_files = [f for f in os.listdir(\"goodreads-book-datasets-10m\") if f.startswith(\"book\")]\n",
    "book_files = sorted(book_files)\n",
    "book_df = pd.concat(\n",
    "    [pd.read_csv(os.path.join(\"goodreads-book-datasets-10m\", f)) for f in book_files],\n",
    "    ignore_index=True\n",
    ")\n",
    "len(book_df)"
   ],
   "metadata": {
    "collapsed": false,
    "pycharm": {
     "name": "#%%\n"
    }
   }
  },
  {
   "cell_type": "code",
   "execution_count": 157,
   "outputs": [
    {
     "data": {
      "text/plain": "   Id                                               Name RatingDist1  \\\n0   1  Harry Potter and the Half-Blood Prince (Harry ...      1:9896   \n1   2  Harry Potter and the Order of the Phoenix (Har...     1:12455   \n2   3  Harry Potter and the Sorcerer's Stone (Harry P...    1:108202   \n3   4  Harry Potter and the Chamber of Secrets (Harry...     1:11896   \n4   5  Harry Potter and the Prisoner of Azkaban (Harr...     1:10128   \n\n   pagesNumber RatingDist4 RatingDistTotal  PublishMonth  PublishDay  \\\n0        652.0    4:556485   total:2298124            16           9   \n1        870.0    4:604283   total:2358637             1           9   \n2        309.0   4:1513191   total:6587388             1          11   \n3        352.0    4:706082   total:2560657             1          11   \n4        435.0    4:630534   total:2610317             1           5   \n\n         Publisher  CountsOfReview  ...  Language       Authors Rating  \\\n0  Scholastic Inc.           28062  ...       eng  J.K. Rowling   4.57   \n1  Scholastic Inc.           29770  ...       eng  J.K. Rowling   4.50   \n2   Scholastic Inc           75911  ...       eng  J.K. Rowling   4.47   \n3       Scholastic             244  ...       eng  J.K. Rowling   4.42   \n4  Scholastic Inc.           37093  ...       eng  J.K. Rowling   4.57   \n\n   RatingDist2 RatingDist5        ISBN RatingDist3 Description  \\\n0      2:25317   5:1546466         NaN    3:159960         NaN   \n1      2:37005   5:1493113  0439358078    3:211781         NaN   \n2     2:130310   5:4268227         NaN    3:567458         NaN   \n3      2:49353   5:1504505  0439554896    3:288821         NaN   \n4      2:24849   5:1749958  043965548X    3:194848         NaN   \n\n  Count of text reviews  PagesNumber  \n0                   NaN          NaN  \n1                   NaN          NaN  \n2                   NaN          NaN  \n3                   NaN          NaN  \n4                   NaN          NaN  \n\n[5 rows x 21 columns]",
      "text/html": "<div>\n<style scoped>\n    .dataframe tbody tr th:only-of-type {\n        vertical-align: middle;\n    }\n\n    .dataframe tbody tr th {\n        vertical-align: top;\n    }\n\n    .dataframe thead th {\n        text-align: right;\n    }\n</style>\n<table border=\"1\" class=\"dataframe\">\n  <thead>\n    <tr style=\"text-align: right;\">\n      <th></th>\n      <th>Id</th>\n      <th>Name</th>\n      <th>RatingDist1</th>\n      <th>pagesNumber</th>\n      <th>RatingDist4</th>\n      <th>RatingDistTotal</th>\n      <th>PublishMonth</th>\n      <th>PublishDay</th>\n      <th>Publisher</th>\n      <th>CountsOfReview</th>\n      <th>...</th>\n      <th>Language</th>\n      <th>Authors</th>\n      <th>Rating</th>\n      <th>RatingDist2</th>\n      <th>RatingDist5</th>\n      <th>ISBN</th>\n      <th>RatingDist3</th>\n      <th>Description</th>\n      <th>Count of text reviews</th>\n      <th>PagesNumber</th>\n    </tr>\n  </thead>\n  <tbody>\n    <tr>\n      <th>0</th>\n      <td>1</td>\n      <td>Harry Potter and the Half-Blood Prince (Harry ...</td>\n      <td>1:9896</td>\n      <td>652.0</td>\n      <td>4:556485</td>\n      <td>total:2298124</td>\n      <td>16</td>\n      <td>9</td>\n      <td>Scholastic Inc.</td>\n      <td>28062</td>\n      <td>...</td>\n      <td>eng</td>\n      <td>J.K. Rowling</td>\n      <td>4.57</td>\n      <td>2:25317</td>\n      <td>5:1546466</td>\n      <td>NaN</td>\n      <td>3:159960</td>\n      <td>NaN</td>\n      <td>NaN</td>\n      <td>NaN</td>\n    </tr>\n    <tr>\n      <th>1</th>\n      <td>2</td>\n      <td>Harry Potter and the Order of the Phoenix (Har...</td>\n      <td>1:12455</td>\n      <td>870.0</td>\n      <td>4:604283</td>\n      <td>total:2358637</td>\n      <td>1</td>\n      <td>9</td>\n      <td>Scholastic Inc.</td>\n      <td>29770</td>\n      <td>...</td>\n      <td>eng</td>\n      <td>J.K. Rowling</td>\n      <td>4.50</td>\n      <td>2:37005</td>\n      <td>5:1493113</td>\n      <td>0439358078</td>\n      <td>3:211781</td>\n      <td>NaN</td>\n      <td>NaN</td>\n      <td>NaN</td>\n    </tr>\n    <tr>\n      <th>2</th>\n      <td>3</td>\n      <td>Harry Potter and the Sorcerer's Stone (Harry P...</td>\n      <td>1:108202</td>\n      <td>309.0</td>\n      <td>4:1513191</td>\n      <td>total:6587388</td>\n      <td>1</td>\n      <td>11</td>\n      <td>Scholastic Inc</td>\n      <td>75911</td>\n      <td>...</td>\n      <td>eng</td>\n      <td>J.K. Rowling</td>\n      <td>4.47</td>\n      <td>2:130310</td>\n      <td>5:4268227</td>\n      <td>NaN</td>\n      <td>3:567458</td>\n      <td>NaN</td>\n      <td>NaN</td>\n      <td>NaN</td>\n    </tr>\n    <tr>\n      <th>3</th>\n      <td>4</td>\n      <td>Harry Potter and the Chamber of Secrets (Harry...</td>\n      <td>1:11896</td>\n      <td>352.0</td>\n      <td>4:706082</td>\n      <td>total:2560657</td>\n      <td>1</td>\n      <td>11</td>\n      <td>Scholastic</td>\n      <td>244</td>\n      <td>...</td>\n      <td>eng</td>\n      <td>J.K. Rowling</td>\n      <td>4.42</td>\n      <td>2:49353</td>\n      <td>5:1504505</td>\n      <td>0439554896</td>\n      <td>3:288821</td>\n      <td>NaN</td>\n      <td>NaN</td>\n      <td>NaN</td>\n    </tr>\n    <tr>\n      <th>4</th>\n      <td>5</td>\n      <td>Harry Potter and the Prisoner of Azkaban (Harr...</td>\n      <td>1:10128</td>\n      <td>435.0</td>\n      <td>4:630534</td>\n      <td>total:2610317</td>\n      <td>1</td>\n      <td>5</td>\n      <td>Scholastic Inc.</td>\n      <td>37093</td>\n      <td>...</td>\n      <td>eng</td>\n      <td>J.K. Rowling</td>\n      <td>4.57</td>\n      <td>2:24849</td>\n      <td>5:1749958</td>\n      <td>043965548X</td>\n      <td>3:194848</td>\n      <td>NaN</td>\n      <td>NaN</td>\n      <td>NaN</td>\n    </tr>\n  </tbody>\n</table>\n<p>5 rows × 21 columns</p>\n</div>"
     },
     "execution_count": 157,
     "metadata": {},
     "output_type": "execute_result"
    }
   ],
   "source": [
    "book_df.head()"
   ],
   "metadata": {
    "collapsed": false,
    "pycharm": {
     "name": "#%%\n"
    }
   }
  },
  {
   "cell_type": "code",
   "execution_count": 165,
   "outputs": [
    {
     "data": {
      "text/plain": "Id                             0\nName                           0\nRatingDist1                    0\npagesNumber              1015232\nRatingDist4                    0\nRatingDistTotal                0\nPublishMonth                   0\nPublishDay                     0\nPublisher                  17826\nCountsOfReview                 0\nPublishYear                    0\nLanguage                 1598488\nAuthors                        0\nRating                         0\nRatingDist2                    0\nRatingDist5                    0\nISBN                        5923\nRatingDist3                    0\nDescription               679122\nCount of text reviews    1440613\nPagesNumber               835078\ndtype: int64"
     },
     "execution_count": 165,
     "metadata": {},
     "output_type": "execute_result"
    }
   ],
   "source": [
    "book_df.isna().sum()"
   ],
   "metadata": {
    "collapsed": false,
    "pycharm": {
     "name": "#%%\n"
    }
   }
  },
  {
   "cell_type": "markdown",
   "source": [
    "### Select relevant columns"
   ],
   "metadata": {
    "collapsed": false,
    "pycharm": {
     "name": "#%% md\n"
    }
   }
  },
  {
   "cell_type": "code",
   "execution_count": 167,
   "outputs": [
    {
     "data": {
      "text/plain": "VBox(children=(HBox(children=(IntProgress(value=0, description='0.00%', max=462578), Label(value='0 / 462578')…",
      "application/vnd.jupyter.widget-view+json": {
       "version_major": 2,
       "version_minor": 0,
       "model_id": "980875a757224847867fd9a761db05b9"
      }
     },
     "metadata": {},
     "output_type": "display_data"
    }
   ],
   "source": [
    "# Convert Ratings from str to int\n",
    "for i in range(1, 6):\n",
    "    book_df[f\"NumRating{i}\"] = book_df[f\"RatingDist{i}\"].apply(lambda s: int(s[2:]))\n",
    "\n",
    "# Total number of ratings\n",
    "book_df[\"NumRatings\"] = book_df[\"NumRating1\"] + book_df[\"NumRating2\"] + book_df[\"NumRating3\"] + book_df[\"NumRating4\"] + book_df[\"NumRating5\"]\n",
    "\n",
    "# Quality Check: Make sure the column `Rating` is the average of all ratings\n",
    "def _avg(rating_1: int, rating_2: int, rating_3: int, rating_4: int, rating_5: int) -> float:\n",
    "    denom = rating_1 + rating_2 + rating_3 + rating_4 + rating_5\n",
    "    if denom == 0:\n",
    "        return 0.0\n",
    "    else:\n",
    "        return (rating_1 + 2*rating_2 + 3 * rating_3 + 4 * rating_4 + 5 * rating_5) / denom\n",
    "\n",
    "\n",
    "diff = book_df.parallel_apply(\n",
    "    lambda row: abs(_avg(row[\"NumRating1\"], row[\"NumRating2\"], row[\"NumRating3\"], row[\"NumRating4\"], row[\"NumRating5\"]) - row[\"Rating\"]) < 0.01,\n",
    "    axis=1\n",
    ")\n",
    "assert diff.all()"
   ],
   "metadata": {
    "collapsed": false,
    "pycharm": {
     "name": "#%%\n"
    }
   }
  },
  {
   "cell_type": "code",
   "execution_count": 169,
   "outputs": [],
   "source": [
    "# Drop irrelevant columns\n",
    "cols_to_drop = [\"RatingDist1\", \"RatingDist2\", \"RatingDist3\", \"RatingDist4\", \"RatingDist5\", \"RatingDistTotal\"]\n",
    "book_df.drop(cols_to_drop, axis=1, inplace=True)"
   ],
   "metadata": {
    "collapsed": false,
    "pycharm": {
     "name": "#%%\n"
    }
   }
  },
  {
   "cell_type": "code",
   "execution_count": 170,
   "outputs": [
    {
     "data": {
      "text/plain": "   Id                                               Name  pagesNumber  \\\n0   1  Harry Potter and the Half-Blood Prince (Harry ...        652.0   \n1   2  Harry Potter and the Order of the Phoenix (Har...        870.0   \n2   3  Harry Potter and the Sorcerer's Stone (Harry P...        309.0   \n3   4  Harry Potter and the Chamber of Secrets (Harry...        352.0   \n4   5  Harry Potter and the Prisoner of Azkaban (Harr...        435.0   \n\n   PublishMonth  PublishDay        Publisher  CountsOfReview  PublishYear  \\\n0            16           9  Scholastic Inc.           28062         2006   \n1             1           9  Scholastic Inc.           29770         2004   \n2             1          11   Scholastic Inc           75911         2003   \n3             1          11       Scholastic             244         2003   \n4             1           5  Scholastic Inc.           37093         2004   \n\n  Language       Authors  ...        ISBN Description Count of text reviews  \\\n0      eng  J.K. Rowling  ...         NaN         NaN                   NaN   \n1      eng  J.K. Rowling  ...  0439358078         NaN                   NaN   \n2      eng  J.K. Rowling  ...         NaN         NaN                   NaN   \n3      eng  J.K. Rowling  ...  0439554896         NaN                   NaN   \n4      eng  J.K. Rowling  ...  043965548X         NaN                   NaN   \n\n   PagesNumber  NumRating1  NumRating2  NumRating3  NumRating4  NumRating5  \\\n0          NaN        9896       25317      159960      556485     1546466   \n1          NaN       12455       37005      211781      604283     1493113   \n2          NaN      108202      130310      567458     1513191     4268227   \n3          NaN       11896       49353      288821      706082     1504505   \n4          NaN       10128       24849      194848      630534     1749958   \n\n   NumRatings  \n0     2298124  \n1     2358637  \n2     6587388  \n3     2560657  \n4     2610317  \n\n[5 rows x 21 columns]",
      "text/html": "<div>\n<style scoped>\n    .dataframe tbody tr th:only-of-type {\n        vertical-align: middle;\n    }\n\n    .dataframe tbody tr th {\n        vertical-align: top;\n    }\n\n    .dataframe thead th {\n        text-align: right;\n    }\n</style>\n<table border=\"1\" class=\"dataframe\">\n  <thead>\n    <tr style=\"text-align: right;\">\n      <th></th>\n      <th>Id</th>\n      <th>Name</th>\n      <th>pagesNumber</th>\n      <th>PublishMonth</th>\n      <th>PublishDay</th>\n      <th>Publisher</th>\n      <th>CountsOfReview</th>\n      <th>PublishYear</th>\n      <th>Language</th>\n      <th>Authors</th>\n      <th>...</th>\n      <th>ISBN</th>\n      <th>Description</th>\n      <th>Count of text reviews</th>\n      <th>PagesNumber</th>\n      <th>NumRating1</th>\n      <th>NumRating2</th>\n      <th>NumRating3</th>\n      <th>NumRating4</th>\n      <th>NumRating5</th>\n      <th>NumRatings</th>\n    </tr>\n  </thead>\n  <tbody>\n    <tr>\n      <th>0</th>\n      <td>1</td>\n      <td>Harry Potter and the Half-Blood Prince (Harry ...</td>\n      <td>652.0</td>\n      <td>16</td>\n      <td>9</td>\n      <td>Scholastic Inc.</td>\n      <td>28062</td>\n      <td>2006</td>\n      <td>eng</td>\n      <td>J.K. Rowling</td>\n      <td>...</td>\n      <td>NaN</td>\n      <td>NaN</td>\n      <td>NaN</td>\n      <td>NaN</td>\n      <td>9896</td>\n      <td>25317</td>\n      <td>159960</td>\n      <td>556485</td>\n      <td>1546466</td>\n      <td>2298124</td>\n    </tr>\n    <tr>\n      <th>1</th>\n      <td>2</td>\n      <td>Harry Potter and the Order of the Phoenix (Har...</td>\n      <td>870.0</td>\n      <td>1</td>\n      <td>9</td>\n      <td>Scholastic Inc.</td>\n      <td>29770</td>\n      <td>2004</td>\n      <td>eng</td>\n      <td>J.K. Rowling</td>\n      <td>...</td>\n      <td>0439358078</td>\n      <td>NaN</td>\n      <td>NaN</td>\n      <td>NaN</td>\n      <td>12455</td>\n      <td>37005</td>\n      <td>211781</td>\n      <td>604283</td>\n      <td>1493113</td>\n      <td>2358637</td>\n    </tr>\n    <tr>\n      <th>2</th>\n      <td>3</td>\n      <td>Harry Potter and the Sorcerer's Stone (Harry P...</td>\n      <td>309.0</td>\n      <td>1</td>\n      <td>11</td>\n      <td>Scholastic Inc</td>\n      <td>75911</td>\n      <td>2003</td>\n      <td>eng</td>\n      <td>J.K. Rowling</td>\n      <td>...</td>\n      <td>NaN</td>\n      <td>NaN</td>\n      <td>NaN</td>\n      <td>NaN</td>\n      <td>108202</td>\n      <td>130310</td>\n      <td>567458</td>\n      <td>1513191</td>\n      <td>4268227</td>\n      <td>6587388</td>\n    </tr>\n    <tr>\n      <th>3</th>\n      <td>4</td>\n      <td>Harry Potter and the Chamber of Secrets (Harry...</td>\n      <td>352.0</td>\n      <td>1</td>\n      <td>11</td>\n      <td>Scholastic</td>\n      <td>244</td>\n      <td>2003</td>\n      <td>eng</td>\n      <td>J.K. Rowling</td>\n      <td>...</td>\n      <td>0439554896</td>\n      <td>NaN</td>\n      <td>NaN</td>\n      <td>NaN</td>\n      <td>11896</td>\n      <td>49353</td>\n      <td>288821</td>\n      <td>706082</td>\n      <td>1504505</td>\n      <td>2560657</td>\n    </tr>\n    <tr>\n      <th>4</th>\n      <td>5</td>\n      <td>Harry Potter and the Prisoner of Azkaban (Harr...</td>\n      <td>435.0</td>\n      <td>1</td>\n      <td>5</td>\n      <td>Scholastic Inc.</td>\n      <td>37093</td>\n      <td>2004</td>\n      <td>eng</td>\n      <td>J.K. Rowling</td>\n      <td>...</td>\n      <td>043965548X</td>\n      <td>NaN</td>\n      <td>NaN</td>\n      <td>NaN</td>\n      <td>10128</td>\n      <td>24849</td>\n      <td>194848</td>\n      <td>630534</td>\n      <td>1749958</td>\n      <td>2610317</td>\n    </tr>\n  </tbody>\n</table>\n<p>5 rows × 21 columns</p>\n</div>"
     },
     "execution_count": 170,
     "metadata": {},
     "output_type": "execute_result"
    }
   ],
   "source": [
    "book_df.head()"
   ],
   "metadata": {
    "collapsed": false,
    "pycharm": {
     "name": "#%%\n"
    }
   }
  },
  {
   "cell_type": "markdown",
   "source": [
    "### Aggregate books that appear more than once"
   ],
   "metadata": {
    "collapsed": false,
    "pycharm": {
     "name": "#%% md\n"
    }
   }
  },
  {
   "cell_type": "code",
   "execution_count": 183,
   "outputs": [
    {
     "data": {
      "text/plain": "                                                      Name  \\\n698344                                           Jane Eyre   \n1472509                                 The Scarlet Letter   \n812602                                       Madame Bovary   \n826394                                      Mansfield Park   \n576098                                              Hamlet   \n...                                                    ...   \n583866   Harmony and Counterpoint: Ritual Music in Chin...   \n583865            Harmony and Conflict in the Living World   \n583864     Harmony and Composition: Basics to Intermediate   \n583863   Harmony Through Melody: The Interaction of Mel...   \n1688594  �� 90-133; �� 1-54, 63 Beurkundungsgesetz: (al...   \n\n                       Authors  size  \n698344        Charlotte Brontë    21  \n1472509    Nathaniel Hawthorne    21  \n812602        Gustave Flaubert    20  \n826394             Jane Austen    20  \n576098     William Shakespeare    20  \n...                        ...   ...  \n583866               Bell Yung     1  \n583865     Alexander F. Skutch     1  \n583864          Deborah Jamini     1  \n583863          Charles Horton     1  \n1688594  Julius von Staudinger     1  \n\n[1688595 rows x 3 columns]",
      "text/html": "<div>\n<style scoped>\n    .dataframe tbody tr th:only-of-type {\n        vertical-align: middle;\n    }\n\n    .dataframe tbody tr th {\n        vertical-align: top;\n    }\n\n    .dataframe thead th {\n        text-align: right;\n    }\n</style>\n<table border=\"1\" class=\"dataframe\">\n  <thead>\n    <tr style=\"text-align: right;\">\n      <th></th>\n      <th>Name</th>\n      <th>Authors</th>\n      <th>size</th>\n    </tr>\n  </thead>\n  <tbody>\n    <tr>\n      <th>698344</th>\n      <td>Jane Eyre</td>\n      <td>Charlotte Brontë</td>\n      <td>21</td>\n    </tr>\n    <tr>\n      <th>1472509</th>\n      <td>The Scarlet Letter</td>\n      <td>Nathaniel Hawthorne</td>\n      <td>21</td>\n    </tr>\n    <tr>\n      <th>812602</th>\n      <td>Madame Bovary</td>\n      <td>Gustave Flaubert</td>\n      <td>20</td>\n    </tr>\n    <tr>\n      <th>826394</th>\n      <td>Mansfield Park</td>\n      <td>Jane Austen</td>\n      <td>20</td>\n    </tr>\n    <tr>\n      <th>576098</th>\n      <td>Hamlet</td>\n      <td>William Shakespeare</td>\n      <td>20</td>\n    </tr>\n    <tr>\n      <th>...</th>\n      <td>...</td>\n      <td>...</td>\n      <td>...</td>\n    </tr>\n    <tr>\n      <th>583866</th>\n      <td>Harmony and Counterpoint: Ritual Music in Chin...</td>\n      <td>Bell Yung</td>\n      <td>1</td>\n    </tr>\n    <tr>\n      <th>583865</th>\n      <td>Harmony and Conflict in the Living World</td>\n      <td>Alexander F. Skutch</td>\n      <td>1</td>\n    </tr>\n    <tr>\n      <th>583864</th>\n      <td>Harmony and Composition: Basics to Intermediate</td>\n      <td>Deborah Jamini</td>\n      <td>1</td>\n    </tr>\n    <tr>\n      <th>583863</th>\n      <td>Harmony Through Melody: The Interaction of Mel...</td>\n      <td>Charles Horton</td>\n      <td>1</td>\n    </tr>\n    <tr>\n      <th>1688594</th>\n      <td>�� 90-133; �� 1-54, 63 Beurkundungsgesetz: (al...</td>\n      <td>Julius von Staudinger</td>\n      <td>1</td>\n    </tr>\n  </tbody>\n</table>\n<p>1688595 rows × 3 columns</p>\n</div>"
     },
     "execution_count": 183,
     "metadata": {},
     "output_type": "execute_result"
    }
   ],
   "source": [
    "counts_df = book_df.groupby([\"Name\", \"Authors\"], as_index=False).size()\n",
    "counts_df.sort_values(\"size\", ascending=False)"
   ],
   "metadata": {
    "collapsed": false,
    "pycharm": {
     "name": "#%%\n"
    }
   }
  },
  {
   "cell_type": "code",
   "execution_count": 195,
   "outputs": [],
   "source": [
    "def agg_book_info(_df: pd.DataFrame) -> pd.Series:\n",
    "    # Rating\n",
    "    num_rating_1 = _df[\"NumRating1\"].sum()\n",
    "    num_rating_2 = _df[\"NumRating2\"].sum()\n",
    "    num_rating_3 = _df[\"NumRating3\"].sum()\n",
    "    num_rating_4 = _df[\"NumRating4\"].sum()\n",
    "    num_rating_5 = _df[\"NumRating5\"].sum()\n",
    "    num = num_rating_1 + 2 * num_rating_2 + 3 * num_rating_3 + 4 * num_rating_4 + 5 * num_rating_5\n",
    "    denom = num_rating_1 + num_rating_2 + num_rating_3 + num_rating_4 + num_rating_5\n",
    "    rating = 0.0 if denom == 0 else num / denom\n",
    "    # Description\n",
    "    non_empty_desc_df = _df[_df[\"Description\"].notna()].copy()\n",
    "    description = non_empty_desc_df.sort_values(\"NumRatings\", ascending=False).iloc[0][\"Description\"] if len(non_empty_desc_df) > 0 else None\n",
    "\n",
    "    return pd.Series(\n",
    "        {\n",
    "            \"NumRating1\": num_rating_1, \"NumRating2\": num_rating_2, \"NumRating3\": num_rating_3,\n",
    "            \"NumRating4\": num_rating_4, \"NumRating5\": num_rating_5, \"NumRatings\": denom,\n",
    "            \"Rating\": rating, \"Description\": description\n",
    "        },\n",
    "        index=[\"NumRating1\", \"NumRating2\", \"NumRating3\", \"NumRating4\", \"NumRating5\", \"NumRatings\", \"Rating\", \"Description\"]\n",
    "    )\n",
    "\n",
    "\n",
    "book_group_df = book_df.groupby([\"Name\", \"Authors\"], as_index=False).apply(agg_book_info)"
   ],
   "metadata": {
    "collapsed": false,
    "pycharm": {
     "name": "#%%\n"
    }
   }
  },
  {
   "cell_type": "code",
   "execution_count": 196,
   "outputs": [
    {
     "data": {
      "text/plain": "                    Name          Authors  NumRating1  NumRating2  NumRating3  \\\n17320  A Christmas Carol  Charles Dickens    166716.0    485710.0   2108642.0   \n\n       NumRating4  NumRating5  NumRatings    Rating  \\\n17320   3618018.0   4154460.0  10533546.0  4.054516   \n\n                                             Description  \n17320  From the bustling, snowy streets of nineteenth...  ",
      "text/html": "<div>\n<style scoped>\n    .dataframe tbody tr th:only-of-type {\n        vertical-align: middle;\n    }\n\n    .dataframe tbody tr th {\n        vertical-align: top;\n    }\n\n    .dataframe thead th {\n        text-align: right;\n    }\n</style>\n<table border=\"1\" class=\"dataframe\">\n  <thead>\n    <tr style=\"text-align: right;\">\n      <th></th>\n      <th>Name</th>\n      <th>Authors</th>\n      <th>NumRating1</th>\n      <th>NumRating2</th>\n      <th>NumRating3</th>\n      <th>NumRating4</th>\n      <th>NumRating5</th>\n      <th>NumRatings</th>\n      <th>Rating</th>\n      <th>Description</th>\n    </tr>\n  </thead>\n  <tbody>\n    <tr>\n      <th>17320</th>\n      <td>A Christmas Carol</td>\n      <td>Charles Dickens</td>\n      <td>166716.0</td>\n      <td>485710.0</td>\n      <td>2108642.0</td>\n      <td>3618018.0</td>\n      <td>4154460.0</td>\n      <td>10533546.0</td>\n      <td>4.054516</td>\n      <td>From the bustling, snowy streets of nineteenth...</td>\n    </tr>\n  </tbody>\n</table>\n</div>"
     },
     "execution_count": 196,
     "metadata": {},
     "output_type": "execute_result"
    }
   ],
   "source": [
    "book_group_df[(book_group_df[\"Name\"] == \"A Christmas Carol\") & (book_group_df[\"Authors\"] == \"Charles Dickens\")]"
   ],
   "metadata": {
    "collapsed": false,
    "pycharm": {
     "name": "#%%\n"
    }
   }
  },
  {
   "cell_type": "code",
   "execution_count": 199,
   "outputs": [
    {
     "data": {
      "text/plain": "                                                Name                Authors  \\\n0  !%@: A Directory of Electronic Mail Addressing...          Donnalyn Frey   \n1  !%@:: A Directory of Electronic Mail Addressin...             Rick Adams   \n2  !Adelante!: A Cultural Approach to Intermediat...    Eduardo Neale-Silva   \n3  !Arrebátalo!: La fe que se mantiene firme ante...            Judy Jacobs   \n4            !Buen viaje!, Course 1, Student Edition  McGraw-Hill Education   \n\n   NumRating1  NumRating2  NumRating3  NumRating4  NumRating5  NumRatings  \\\n0         0.0         0.0         0.0         0.0         0.0         0.0   \n1         0.0         0.0         0.0         0.0         0.0         0.0   \n2         0.0         0.0         0.0         0.0         0.0         0.0   \n3         0.0         0.0         0.0         2.0         0.0         2.0   \n4         1.0         1.0         2.0         0.0         1.0         5.0   \n\n   Rating                                        Description  \n0     0.0                                                NaN  \n1     0.0  These days, it's a rare person who hasn't hear...  \n2     0.0                                                NaN  \n3     4.0  <i>¡Aprende a caminar en el poder de la fe vio...  \n4     2.8  This three-level program brings you every reso...  ",
      "text/html": "<div>\n<style scoped>\n    .dataframe tbody tr th:only-of-type {\n        vertical-align: middle;\n    }\n\n    .dataframe tbody tr th {\n        vertical-align: top;\n    }\n\n    .dataframe thead th {\n        text-align: right;\n    }\n</style>\n<table border=\"1\" class=\"dataframe\">\n  <thead>\n    <tr style=\"text-align: right;\">\n      <th></th>\n      <th>Name</th>\n      <th>Authors</th>\n      <th>NumRating1</th>\n      <th>NumRating2</th>\n      <th>NumRating3</th>\n      <th>NumRating4</th>\n      <th>NumRating5</th>\n      <th>NumRatings</th>\n      <th>Rating</th>\n      <th>Description</th>\n    </tr>\n  </thead>\n  <tbody>\n    <tr>\n      <th>0</th>\n      <td>!%@: A Directory of Electronic Mail Addressing...</td>\n      <td>Donnalyn Frey</td>\n      <td>0.0</td>\n      <td>0.0</td>\n      <td>0.0</td>\n      <td>0.0</td>\n      <td>0.0</td>\n      <td>0.0</td>\n      <td>0.0</td>\n      <td>NaN</td>\n    </tr>\n    <tr>\n      <th>1</th>\n      <td>!%@:: A Directory of Electronic Mail Addressin...</td>\n      <td>Rick Adams</td>\n      <td>0.0</td>\n      <td>0.0</td>\n      <td>0.0</td>\n      <td>0.0</td>\n      <td>0.0</td>\n      <td>0.0</td>\n      <td>0.0</td>\n      <td>These days, it's a rare person who hasn't hear...</td>\n    </tr>\n    <tr>\n      <th>2</th>\n      <td>!Adelante!: A Cultural Approach to Intermediat...</td>\n      <td>Eduardo Neale-Silva</td>\n      <td>0.0</td>\n      <td>0.0</td>\n      <td>0.0</td>\n      <td>0.0</td>\n      <td>0.0</td>\n      <td>0.0</td>\n      <td>0.0</td>\n      <td>NaN</td>\n    </tr>\n    <tr>\n      <th>3</th>\n      <td>!Arrebátalo!: La fe que se mantiene firme ante...</td>\n      <td>Judy Jacobs</td>\n      <td>0.0</td>\n      <td>0.0</td>\n      <td>0.0</td>\n      <td>2.0</td>\n      <td>0.0</td>\n      <td>2.0</td>\n      <td>4.0</td>\n      <td>&lt;i&gt;¡Aprende a caminar en el poder de la fe vio...</td>\n    </tr>\n    <tr>\n      <th>4</th>\n      <td>!Buen viaje!, Course 1, Student Edition</td>\n      <td>McGraw-Hill Education</td>\n      <td>1.0</td>\n      <td>1.0</td>\n      <td>2.0</td>\n      <td>0.0</td>\n      <td>1.0</td>\n      <td>5.0</td>\n      <td>2.8</td>\n      <td>This three-level program brings you every reso...</td>\n    </tr>\n  </tbody>\n</table>\n</div>"
     },
     "execution_count": 199,
     "metadata": {},
     "output_type": "execute_result"
    }
   ],
   "source": [
    "book_group_df.head()"
   ],
   "metadata": {
    "collapsed": false,
    "pycharm": {
     "name": "#%%\n"
    }
   }
  },
  {
   "cell_type": "code",
   "execution_count": 198,
   "outputs": [],
   "source": [
    "book_group_df.to_pickle(\"goodreads-book-datasets-10m/books_processed.json\")"
   ],
   "metadata": {
    "collapsed": false,
    "pycharm": {
     "name": "#%%\n"
    }
   }
  },
  {
   "cell_type": "code",
   "execution_count": 202,
   "outputs": [],
   "source": [
    "del book_df # Save disk space\n",
    "book_df = book_group_df.copy()\n",
    "del book_group_df # Save disk space"
   ],
   "metadata": {
    "collapsed": false,
    "pycharm": {
     "name": "#%%\n"
    }
   }
  },
  {
   "cell_type": "markdown",
   "source": [
    "### How many books have a description?\n",
    "\n",
    "\n",
    "65% of the books (~1.1M books) have a non-empty description, which is enough data to try to train a simple text model that computes the similarity between books based on their:\n",
    "- Title\n",
    "- Author, maybe?\n",
    "- Description"
   ],
   "metadata": {
    "collapsed": false,
    "pycharm": {
     "name": "#%% md\n"
    }
   }
  },
  {
   "cell_type": "code",
   "execution_count": 237,
   "outputs": [
    {
     "name": "stdout",
     "output_type": "stream",
     "text": [
      "Number of books with a (non-empty) description: 1091680 (~65%)\n"
     ]
    }
   ],
   "source": [
    "def is_str_non_empty(s):\n",
    "    if s is None or not isinstance(s, str):\n",
    "        return False\n",
    "    return len(s) > 0\n",
    "\n",
    "\n",
    "mask_non_empty_description = book_df[\"Description\"].apply(is_str_non_empty)\n",
    "print(f\"Number of books with a (non-empty) description: {mask_non_empty_description.sum()} (~{mask_non_empty_description.sum() / len(book_df):.0%})\")"
   ],
   "metadata": {
    "collapsed": false,
    "pycharm": {
     "name": "#%%\n"
    }
   }
  },
  {
   "cell_type": "markdown",
   "source": [
    "### Language Distribution of book titles and description\n",
    "\n",
    "Knowing the language of the books/descriptions will help us decide what model is better for embedding the texts:\n",
    "- a monolingual English model like BERT;\n",
    "- or a multilingual model like XLM-RoBERTa."
   ],
   "metadata": {
    "collapsed": false,
    "pycharm": {
     "name": "#%% md\n"
    }
   }
  },
  {
   "cell_type": "code",
   "execution_count": 213,
   "outputs": [
    {
     "name": "stdout",
     "output_type": "stream",
     "text": [
      "  % Total    % Received % Xferd  Average Speed   Time    Time     Time  Current\r\n",
      "                                 Dload  Upload   Total   Spent    Left  Speed\r\n",
      "100  125M  100  125M    0     0  9725k      0  0:00:13  0:00:13 --:--:-- 11.1M    0  0:00:17  0:00:05  0:00:12 8896k\r\n"
     ]
    }
   ],
   "source": [
    "# Download fastText language detection model to `models`\n",
    "!curl -fLS https://dl.fbaipublicfiles.com/fasttext/supervised-models/lid.176.bin -o ../models/lid.176.bin"
   ],
   "metadata": {
    "collapsed": false,
    "pycharm": {
     "name": "#%%\n"
    }
   }
  },
  {
   "cell_type": "code",
   "execution_count": 234,
   "outputs": [],
   "source": [
    "# Ignore warning https://github.com/facebookresearch/fastText/issues/1067\n",
    "fasttext.FastText.eprint = lambda x: None\n",
    "\n",
    "class LanguageDetector:\n",
    "    def __init__(self):\n",
    "        self.language_model = fasttext.load_model(\"../models/lid.176.bin\")\n",
    "\n",
    "    @staticmethod\n",
    "    def _process_input(text: str) -> str:\n",
    "        return text.replace(\"\\n\", \"\")\n",
    "\n",
    "    @staticmethod\n",
    "    def _process_output(output: Tuple[Tuple[str], np.ndarray]) -> str:\n",
    "        return output[0][0][9:]\n",
    "\n",
    "    def predict_language(self, text: str) -> str:\n",
    "        \"\"\"Predicts the language in which the input text is written\"\"\"\n",
    "        if text is None or not isinstance(text, str):\n",
    "            return None\n",
    "        prediction = self.language_model.predict(self._process_input(text))\n",
    "        return self._process_output(prediction)"
   ],
   "metadata": {
    "collapsed": false,
    "pycharm": {
     "name": "#%%\n"
    }
   }
  },
  {
   "cell_type": "code",
   "execution_count": 236,
   "outputs": [
    {
     "data": {
      "text/plain": "VBox(children=(HBox(children=(IntProgress(value=0, description='0.00%', max=422149), Label(value='0 / 422149')…",
      "application/vnd.jupyter.widget-view+json": {
       "version_major": 2,
       "version_minor": 0,
       "model_id": "4df7da399eb54496a599fe23685cfb5c"
      }
     },
     "metadata": {},
     "output_type": "display_data"
    },
    {
     "data": {
      "text/plain": "VBox(children=(HBox(children=(IntProgress(value=0, description='0.00%', max=422149), Label(value='0 / 422149')…",
      "application/vnd.jupyter.widget-view+json": {
       "version_major": 2,
       "version_minor": 0,
       "model_id": "07c47bb6822c478b8e37186f7ed60534"
      }
     },
     "metadata": {},
     "output_type": "display_data"
    }
   ],
   "source": [
    "lang_model = LanguageDetector()\n",
    "for col in [\"Name\", \"Description\"]:\n",
    "    book_df[f\"{col}Lang\"] = book_df[col].parallel_apply(lambda s: lang_model.predict_language(s))"
   ],
   "metadata": {
    "collapsed": false,
    "pycharm": {
     "name": "#%%\n"
    }
   }
  },
  {
   "cell_type": "code",
   "execution_count": 241,
   "outputs": [
    {
     "data": {
      "text/plain": "en    9.537264e-01\nde    2.036128e-02\nfr    1.196962e-02\nes    8.064634e-03\nit    1.332808e-03\n          ...     \nsw    9.160193e-07\ntl    9.160193e-07\nnn    9.160193e-07\nyi    9.160193e-07\nur    9.160193e-07\nName: DescriptionLang, Length: 70, dtype: float64"
     },
     "execution_count": 241,
     "metadata": {},
     "output_type": "execute_result"
    }
   ],
   "source": [
    "book_df[\"DescriptionLang\"].value_counts(normalize=True)"
   ],
   "metadata": {
    "collapsed": false,
    "pycharm": {
     "name": "#%%\n"
    }
   }
  },
  {
   "cell_type": "code",
   "execution_count": 242,
   "outputs": [
    {
     "data": {
      "text/plain": "en     9.175285e-01\nde     2.837329e-02\nfr     2.151374e-02\nes     1.576222e-02\nit     4.301801e-03\n           ...     \nht     5.922083e-07\nmy     5.922083e-07\nhsb    5.922083e-07\nne     5.922083e-07\nwuu    5.922083e-07\nName: NameLang, Length: 119, dtype: float64"
     },
     "execution_count": 242,
     "metadata": {},
     "output_type": "execute_result"
    }
   ],
   "source": [
    "book_df[\"NameLang\"].value_counts(normalize=True)"
   ],
   "metadata": {
    "collapsed": false,
    "pycharm": {
     "name": "#%%\n"
    }
   }
  },
  {
   "cell_type": "markdown",
   "source": [
    "### Embed text representation of books"
   ],
   "metadata": {
    "collapsed": false,
    "pycharm": {
     "name": "#%% md\n"
    }
   }
  },
  {
   "cell_type": "code",
   "execution_count": 347,
   "outputs": [
    {
     "name": "stdout",
     "output_type": "stream",
     "text": [
      "huggingface/tokenizers: The current process just got forked, after parallelism has already been used. Disabling parallelism to avoid deadlocks...\n",
      "To disable this warning, you can either:\n",
      "\t- Avoid using `tokenizers` before the fork if possible\n",
      "\t- Explicitly set the environment variable TOKENIZERS_PARALLELISM=(true | false)\n"
     ]
    },
    {
     "data": {
      "text/plain": "VBox(children=(HBox(children=(IntProgress(value=0, description='0.00%', max=272920), Label(value='0 / 272920')…",
      "application/vnd.jupyter.widget-view+json": {
       "version_major": 2,
       "version_minor": 0,
       "model_id": "e015b31cd6c14812b3f2d86c3f10bd79"
      }
     },
     "metadata": {},
     "output_type": "display_data"
    },
    {
     "name": "stdout",
     "output_type": "stream",
     "text": [
      "huggingface/tokenizers: The current process just got forked, after parallelism has already been used. Disabling parallelism to avoid deadlocks...\n",
      "To disable this warning, you can either:\n",
      "\t- Avoid using `tokenizers` before the fork if possible\n",
      "\t- Explicitly set the environment variable TOKENIZERS_PARALLELISM=(true | false)\n",
      "huggingface/tokenizers: The current process just got forked, after parallelism has already been used. Disabling parallelism to avoid deadlocks...\n",
      "To disable this warning, you can either:\n",
      "\t- Avoid using `tokenizers` before the fork if possible\n",
      "\t- Explicitly set the environment variable TOKENIZERS_PARALLELISM=(true | false)\n",
      "huggingface/tokenizers: The current process just got forked, after parallelism has already been used. Disabling parallelism to avoid deadlocks...\n",
      "To disable this warning, you can either:\n",
      "\t- Avoid using `tokenizers` before the fork if possible\n",
      "\t- Explicitly set the environment variable TOKENIZERS_PARALLELISM=(true | false)\n",
      "huggingface/tokenizers: The current process just got forked, after parallelism has already been used. Disabling parallelism to avoid deadlocks...\n",
      "To disable this warning, you can either:\n",
      "\t- Avoid using `tokenizers` before the fork if possible\n",
      "\t- Explicitly set the environment variable TOKENIZERS_PARALLELISM=(true | false)\n",
      "huggingface/tokenizers: The current process just got forked, after parallelism has already been used. Disabling parallelism to avoid deadlocks...\n",
      "To disable this warning, you can either:\n",
      "\t- Avoid using `tokenizers` before the fork if possible\n",
      "\t- Explicitly set the environment variable TOKENIZERS_PARALLELISM=(true | false)\n"
     ]
    }
   ],
   "source": [
    "def concatenate_texts(texts: List[str], separator: str = \"</s>\") -> str:\n",
    "    cleaned_texts = [t if t is not None else \"\" for t in texts]\n",
    "    return separator.join(cleaned_texts)\n",
    "\n",
    "\n",
    "book_description_df = book_df[mask_non_empty_description].copy()\n",
    "book_description_df[\"BookRepresentation\"] = book_description_df.parallel_apply(\n",
    "    lambda row: concatenate_texts([row[\"Name\"], row[\"Authors\"], row[\"Description\"]]),\n",
    "    axis=1\n",
    ")"
   ],
   "metadata": {
    "collapsed": false,
    "pycharm": {
     "name": "#%%\n"
    }
   }
  },
  {
   "cell_type": "code",
   "execution_count": 353,
   "outputs": [],
   "source": [
    "book_description_df = book_description_df.sample(1000, random_state=123)"
   ],
   "metadata": {
    "collapsed": false,
    "pycharm": {
     "name": "#%%\n"
    }
   }
  },
  {
   "cell_type": "code",
   "execution_count": 354,
   "outputs": [
    {
     "data": {
      "text/plain": "'The Highly Effective Detective (The Highly Effective Detective, #1)</s>Rick Yancey</s>Meet Teddy Ruzak. After his mother dies, Teddy quits his job as a night watchman to fulfill his childhood dream of being a detective. With little planning and even less foresight, he hangs up his shingle and hires his favorite waitress from the local diner to be his Girl Friday.<br /><br />\\xa0<br /><br />And his first case? Bringing to justice the thoughtless driver who mows down six baby geese. Not the most exciting assignment—until Teddy’s “wild-goose chase” quickly evolves into an investigation of a vicious murder.'"
     },
     "execution_count": 354,
     "metadata": {},
     "output_type": "execute_result"
    }
   ],
   "source": [
    "book_description_df.sample(1).iloc[0][\"BookRepresentation\"]"
   ],
   "metadata": {
    "collapsed": false,
    "pycharm": {
     "name": "#%%\n"
    }
   }
  },
  {
   "cell_type": "code",
   "execution_count": 3,
   "outputs": [],
   "source": [
    "class TextSimilarityModel:\n",
    "    def __init__(self, model_name: str):\n",
    "        config = AutoConfig.from_pretrained(model_name)\n",
    "        self.model = AutoModel.from_pretrained(\n",
    "            model_name, config=config\n",
    "        )\n",
    "        self.model.eval()\n",
    "        self.tokenizer = AutoTokenizer.from_pretrained(model_name)\n",
    "\n",
    "\n",
    "    def encode(self,\n",
    "        texts: Union[str, List[str]],\n",
    "        batch_size: int = 32,\n",
    "        max_length: int = 128,\n",
    "        normalize_embeddings: bool = False,\n",
    "    ) -> torch.Tensor:\n",
    "        \"\"\"\n",
    "        Returns the [CLS] token embedding of shape [num_texts, hidden_size]\n",
    "        Highly inspired by sentence-transformers:\n",
    "        https://github.com/UKPLab/sentence-transformers/blob/a8cebb235066cacf533d073b8c8250e5e7b04c3d/sentence_transformers/SentenceTransformer.py#L111-L202\n",
    "        \"\"\"\n",
    "        if isinstance(texts, str):\n",
    "            texts = [texts]\n",
    "\n",
    "        embeds = []\n",
    "        length_sorted_idx = np.argsort([-len(text) for text in texts])\n",
    "        texts_sorted = [texts[idx] for idx in length_sorted_idx]\n",
    "\n",
    "        for start_index in trange(0, len(texts), batch_size, desc=\"Batches\"):\n",
    "            tokens = self.tokenizer(\n",
    "                texts_sorted[start_index:start_index + batch_size],\n",
    "                max_length=max_length,\n",
    "                padding=True,\n",
    "                truncation=True,\n",
    "                return_tensors=\"pt\",\n",
    "                return_attention_mask=True\n",
    "            )\n",
    "            output = self.model(**tokens)\n",
    "            embed = output.pooler_output\n",
    "            if normalize_embeddings:\n",
    "                embed = torch.nn.functional.normalize(embed, p=2, dim=1)\n",
    "            embeds.extend(embed)\n",
    "\n",
    "        # Sort outputs according to original order\n",
    "        embeds = [embeds[idx] for idx in np.argsort(length_sorted_idx)]\n",
    "        # Convert output to tensor of shape (num_texts, hidden_size)\n",
    "        return torch.stack(embeds)\n",
    "\n",
    "    @staticmethod\n",
    "    def dot_product(x: torch.Tensor, encodings: torch.Tensor) -> torch.Tensor:\n",
    "        \"\"\"\n",
    "        Computes the dot product between x, a tensor of shape [1, d], and every of\n",
    "        the n elements of `encodings`, a tensor of shape [n, d].\n",
    "        The output will be a tensor of shape [1, n].\n",
    "        \"\"\"\n",
    "        return torch.mm(x, torch.transpose(encodings, 0, 1))\n",
    "\n",
    "    def top_k_most_similar_items(self, x: torch.Tensor, encodings: torch.Tensor, top_k: int) -> List[Tuple[int, float]]:\n",
    "        \"\"\"Returns the top k most similar items in `encodings` to `x`.\n",
    "\n",
    "        Args\n",
    "            x:\n",
    "                tensor of shape [1, d] containing the embedding of the item to find the top k closest ones;\n",
    "            encodings:\n",
    "                tensor of shape [n, d] containing the embeddings of the items that `x` will be compared to.\n",
    "\n",
    "        Returns\n",
    "            a list containing the top k most similar items, sorted by similarity in ascending order (closest first).\n",
    "            The i-th element of the list is a tuple containing the index of the item that is ranked in i-th place and\n",
    "            the corresponding similarity (dot product).\n",
    "        \"\"\"\n",
    "        similarity = self.dot_product(x, encodings)\n",
    "        idx_sorted = torch.argsort(similarity, descending=True)\n",
    "        idx_top_k = idx_sorted[:top_k]\n",
    "        top_k_list = []\n",
    "\n",
    "        for idx in idx_top_k:\n",
    "            idx = idx.item()\n",
    "            top_k_list.append((idx, similarity[idx].item()))\n",
    "\n",
    "        return top_k_list"
   ],
   "metadata": {
    "collapsed": false,
    "pycharm": {
     "name": "#%%\n"
    }
   }
  },
  {
   "cell_type": "code",
   "execution_count": null,
   "outputs": [
    {
     "name": "stderr",
     "output_type": "stream",
     "text": [
      "Some weights of the model checkpoint at xlm-roberta-base were not used when initializing XLMRobertaModel: ['lm_head.decoder.weight', 'lm_head.layer_norm.weight', 'lm_head.dense.weight', 'lm_head.bias', 'lm_head.dense.bias', 'lm_head.layer_norm.bias']\n",
      "- This IS expected if you are initializing XLMRobertaModel from the checkpoint of a model trained on another task or with another architecture (e.g. initializing a BertForSequenceClassification model from a BertForPreTraining model).\n",
      "- This IS NOT expected if you are initializing XLMRobertaModel from the checkpoint of a model that you expect to be exactly identical (initializing a BertForSequenceClassification model from a BertForSequenceClassification model).\n",
      "Batches:  16%|█▌        | 5/32 [01:03<05:50, 12.98s/it]"
     ]
    }
   ],
   "source": [
    "text_sim = TextSimilarityModel(\"xlm-roberta-base\")\n",
    "encodings = text_sim.encode(book_description_df[\"BookRepresentation\"].tolist(), batch_size=32, normalize_embeddings=True)"
   ],
   "metadata": {
    "collapsed": false,
    "pycharm": {
     "name": "#%%\n"
    }
   }
  },
  {
   "cell_type": "code",
   "execution_count": 5,
   "outputs": [
    {
     "ename": "NameError",
     "evalue": "name 'book_df' is not defined",
     "output_type": "error",
     "traceback": [
      "\u001B[0;31m---------------------------------------------------------------------------\u001B[0m",
      "\u001B[0;31mNameError\u001B[0m                                 Traceback (most recent call last)",
      "Cell \u001B[0;32mIn [5], line 1\u001B[0m\n\u001B[0;32m----> 1\u001B[0m sample \u001B[38;5;241m=\u001B[39m book_df[mask_non_empty_description]\u001B[38;5;241m.\u001B[39msample(\u001B[38;5;241m1\u001B[39m)\u001B[38;5;241m.\u001B[39miloc[\u001B[38;5;241m0\u001B[39m]\n\u001B[1;32m      2\u001B[0m x \u001B[38;5;241m=\u001B[39m concatenate_texts([sample[\u001B[38;5;124m\"\u001B[39m\u001B[38;5;124mName\u001B[39m\u001B[38;5;124m\"\u001B[39m], sample[\u001B[38;5;124m\"\u001B[39m\u001B[38;5;124mAuthors\u001B[39m\u001B[38;5;124m\"\u001B[39m], sample[\u001B[38;5;124m\"\u001B[39m\u001B[38;5;124mDescription\u001B[39m\u001B[38;5;124m\"\u001B[39m]])\n\u001B[1;32m      3\u001B[0m x\n",
      "\u001B[0;31mNameError\u001B[0m: name 'book_df' is not defined"
     ]
    }
   ],
   "source": [
    "sample = book_df[mask_non_empty_description].sample(1).iloc[0]\n",
    "x = concatenate_texts([sample[\"Name\"], sample[\"Authors\"], sample[\"Description\"]])\n",
    "x"
   ],
   "metadata": {
    "collapsed": false,
    "pycharm": {
     "name": "#%%\n"
    }
   }
  },
  {
   "cell_type": "code",
   "execution_count": 342,
   "outputs": [
    {
     "name": "stderr",
     "output_type": "stream",
     "text": [
      "Batches: 100%|██████████| 1/1 [00:02<00:00,  2.27s/it]\n"
     ]
    }
   ],
   "source": [
    "x_encoding = text_sim.encode(x, normalize_embeddings=True)"
   ],
   "metadata": {
    "collapsed": false,
    "pycharm": {
     "name": "#%%\n"
    }
   }
  },
  {
   "cell_type": "code",
   "execution_count": 4,
   "outputs": [
    {
     "ename": "NameError",
     "evalue": "name 'x_encoding' is not defined",
     "output_type": "error",
     "traceback": [
      "\u001B[0;31m---------------------------------------------------------------------------\u001B[0m",
      "\u001B[0;31mNameError\u001B[0m                                 Traceback (most recent call last)",
      "Cell \u001B[0;32mIn [4], line 1\u001B[0m\n\u001B[0;32m----> 1\u001B[0m x_encoding\n",
      "\u001B[0;31mNameError\u001B[0m: name 'x_encoding' is not defined"
     ]
    }
   ],
   "source": [
    "x_encoding"
   ],
   "metadata": {
    "collapsed": false,
    "pycharm": {
     "name": "#%%\n"
    }
   }
  },
  {
   "cell_type": "code",
   "execution_count": 344,
   "outputs": [
    {
     "data": {
      "text/plain": "tensor(19)"
     },
     "execution_count": 344,
     "metadata": {},
     "output_type": "execute_result"
    }
   ],
   "source": [
    "torch.argmax(sim)"
   ],
   "metadata": {
    "collapsed": false,
    "pycharm": {
     "name": "#%%\n"
    }
   }
  },
  {
   "cell_type": "code",
   "execution_count": 345,
   "outputs": [
    {
     "data": {
      "text/plain": "'Business and Technical Communication: An Annotated Guide to Sources, Skills, and Samples</s>Sandra E. Belanger</s>The amount of material published in business and technical communications is still growing despite the number of textbooks, guides, and other resources that have already appeared. Universities continue to stress communication skills in business and engineering, partly in response to concerns expressed by executives and managers. What students and practitioners require for skill improvement are clear guidelines, well-structured outlines, and pertinent examples. This work locates these essential materials and the research tools needed to unlock them.<br /><br /><br /><br />This handbook couples research sources, an annotated bibliography of how-to information, and detailed indexes to identify the most relevant items in aiding business and technical communication. Organized in two sections, the first consists of a research handbook, consisting of tools (i.e., dictionaries), resources (i.e., databases), and information providers (i.e., associations). Part two is a topical bibliography of books on general, written, and oral skills in business and technical communications. The printed works featured in the book emphasize approaches, formats, checklists, guidelines, models, and other helpful aids.'"
     },
     "execution_count": 345,
     "metadata": {},
     "output_type": "execute_result"
    }
   ],
   "source": [
    "_df.iloc[19][\"TextRepresentation\"]"
   ],
   "metadata": {
    "collapsed": false,
    "pycharm": {
     "name": "#%%\n"
    }
   }
  },
  {
   "cell_type": "code",
   "execution_count": null,
   "outputs": [],
   "source": [],
   "metadata": {
    "collapsed": false,
    "pycharm": {
     "name": "#%%\n"
    }
   }
  },
  {
   "cell_type": "markdown",
   "source": [
    "## Load all user ratings"
   ],
   "metadata": {
    "collapsed": false,
    "pycharm": {
     "name": "#%% md\n"
    }
   }
  },
  {
   "cell_type": "code",
   "execution_count": 115,
   "outputs": [
    {
     "data": {
      "text/plain": "362596"
     },
     "execution_count": 115,
     "metadata": {},
     "output_type": "execute_result"
    }
   ],
   "source": [
    "user_rating_files = [f for f in os.listdir(\"goodreads-book-datasets-10m\") if f.startswith(\"user_rating_\")]\n",
    "user_rating_files = sorted(user_rating_files)\n",
    "user_df = pd.concat(\n",
    "    [pd.read_csv(os.path.join(\"goodreads-book-datasets-10m\", f)) for f in user_rating_files],\n",
    "    ignore_index=True\n",
    ")\n",
    "len(user_df)"
   ],
   "metadata": {
    "collapsed": false,
    "pycharm": {
     "name": "#%%\n"
    }
   }
  },
  {
   "cell_type": "code",
   "execution_count": 116,
   "outputs": [
    {
     "data": {
      "text/plain": "   ID                                               Name           Rating\n0   1  Agile Web Development with Rails: A Pragmatic ...   it was amazing\n1   1  The Restaurant at the End of the Universe (Hit...   it was amazing\n2   1                                         Siddhartha   it was amazing\n3   1  The Clock of the Long Now: Time and Responsibi...  really liked it\n4   1            Ready Player One (Ready Player One, #1)  really liked it",
      "text/html": "<div>\n<style scoped>\n    .dataframe tbody tr th:only-of-type {\n        vertical-align: middle;\n    }\n\n    .dataframe tbody tr th {\n        vertical-align: top;\n    }\n\n    .dataframe thead th {\n        text-align: right;\n    }\n</style>\n<table border=\"1\" class=\"dataframe\">\n  <thead>\n    <tr style=\"text-align: right;\">\n      <th></th>\n      <th>ID</th>\n      <th>Name</th>\n      <th>Rating</th>\n    </tr>\n  </thead>\n  <tbody>\n    <tr>\n      <th>0</th>\n      <td>1</td>\n      <td>Agile Web Development with Rails: A Pragmatic ...</td>\n      <td>it was amazing</td>\n    </tr>\n    <tr>\n      <th>1</th>\n      <td>1</td>\n      <td>The Restaurant at the End of the Universe (Hit...</td>\n      <td>it was amazing</td>\n    </tr>\n    <tr>\n      <th>2</th>\n      <td>1</td>\n      <td>Siddhartha</td>\n      <td>it was amazing</td>\n    </tr>\n    <tr>\n      <th>3</th>\n      <td>1</td>\n      <td>The Clock of the Long Now: Time and Responsibi...</td>\n      <td>really liked it</td>\n    </tr>\n    <tr>\n      <th>4</th>\n      <td>1</td>\n      <td>Ready Player One (Ready Player One, #1)</td>\n      <td>really liked it</td>\n    </tr>\n  </tbody>\n</table>\n</div>"
     },
     "execution_count": 116,
     "metadata": {},
     "output_type": "execute_result"
    }
   ],
   "source": [
    "user_df.head()"
   ],
   "metadata": {
    "collapsed": false,
    "pycharm": {
     "name": "#%%\n"
    }
   }
  },
  {
   "cell_type": "code",
   "execution_count": 133,
   "outputs": [
    {
     "data": {
      "text/plain": "really liked it                      132808\nliked it                              96047\nit was amazing                        92354\nit was ok                             28811\ndid not like it                        7811\nThis user doesn't have any rating      4765\nName: Rating, dtype: int64"
     },
     "execution_count": 133,
     "metadata": {},
     "output_type": "execute_result"
    }
   ],
   "source": [
    "user_df[\"Rating\"].value_counts()"
   ],
   "metadata": {
    "collapsed": false,
    "pycharm": {
     "name": "#%%\n"
    }
   }
  },
  {
   "cell_type": "code",
   "execution_count": 138,
   "outputs": [],
   "source": [
    "# Map rating string to int\n",
    "rating_str2int = {\n",
    "    \"did not like it\": 1,\n",
    "    \"it was ok\": 2,\n",
    "    \"liked it\": 3,\n",
    "    \"really liked it\": 4,\n",
    "    \"it was amazing\": 5,\n",
    "}\n",
    "user_df.rename(columns={\"Rating\": \"RatingStr\"}, inplace=True)\n",
    "user_df[\"Rating\"] = user_df[\"RatingStr\"].map(rating_str2int)"
   ],
   "metadata": {
    "collapsed": false,
    "pycharm": {
     "name": "#%%\n"
    }
   }
  },
  {
   "cell_type": "code",
   "execution_count": 140,
   "outputs": [
    {
     "name": "stdout",
     "output_type": "stream",
     "text": [
      "Dropped 4765 (1%) ratings that were empty\n"
     ]
    }
   ],
   "source": [
    "# Drop users that don't have any ratings\n",
    "n = len(user_df)\n",
    "user_df = user_df[user_df[\"Rating\"].notna()].copy()\n",
    "print(f\"Dropped {n - len(user_df)} ({(n - len(user_df)) / n:.0%}) ratings that were empty\")"
   ],
   "metadata": {
    "collapsed": false,
    "pycharm": {
     "name": "#%%\n"
    }
   }
  },
  {
   "cell_type": "code",
   "execution_count": 141,
   "outputs": [
    {
     "name": "stdout",
     "output_type": "stream",
     "text": [
      "Total number of users: 4154\n"
     ]
    }
   ],
   "source": [
    "print(f\"Total number of users: {user_df['ID'].nunique()}\")"
   ],
   "metadata": {
    "collapsed": false,
    "pycharm": {
     "name": "#%%\n"
    }
   }
  },
  {
   "cell_type": "code",
   "execution_count": 144,
   "outputs": [
    {
     "data": {
      "text/plain": "        ID  size\n1779  4196  3637\n2041  4806  3236\n1991  4693  2736\n590   1134  2089\n158    284  2052\n...    ...   ...\n651   1252     1\n650   1250     1\n3130  8362     1\n642   1226     1\n720   1399     1\n\n[4154 rows x 2 columns]",
      "text/html": "<div>\n<style scoped>\n    .dataframe tbody tr th:only-of-type {\n        vertical-align: middle;\n    }\n\n    .dataframe tbody tr th {\n        vertical-align: top;\n    }\n\n    .dataframe thead th {\n        text-align: right;\n    }\n</style>\n<table border=\"1\" class=\"dataframe\">\n  <thead>\n    <tr style=\"text-align: right;\">\n      <th></th>\n      <th>ID</th>\n      <th>size</th>\n    </tr>\n  </thead>\n  <tbody>\n    <tr>\n      <th>1779</th>\n      <td>4196</td>\n      <td>3637</td>\n    </tr>\n    <tr>\n      <th>2041</th>\n      <td>4806</td>\n      <td>3236</td>\n    </tr>\n    <tr>\n      <th>1991</th>\n      <td>4693</td>\n      <td>2736</td>\n    </tr>\n    <tr>\n      <th>590</th>\n      <td>1134</td>\n      <td>2089</td>\n    </tr>\n    <tr>\n      <th>158</th>\n      <td>284</td>\n      <td>2052</td>\n    </tr>\n    <tr>\n      <th>...</th>\n      <td>...</td>\n      <td>...</td>\n    </tr>\n    <tr>\n      <th>651</th>\n      <td>1252</td>\n      <td>1</td>\n    </tr>\n    <tr>\n      <th>650</th>\n      <td>1250</td>\n      <td>1</td>\n    </tr>\n    <tr>\n      <th>3130</th>\n      <td>8362</td>\n      <td>1</td>\n    </tr>\n    <tr>\n      <th>642</th>\n      <td>1226</td>\n      <td>1</td>\n    </tr>\n    <tr>\n      <th>720</th>\n      <td>1399</td>\n      <td>1</td>\n    </tr>\n  </tbody>\n</table>\n<p>4154 rows × 2 columns</p>\n</div>"
     },
     "execution_count": 144,
     "metadata": {},
     "output_type": "execute_result"
    }
   ],
   "source": [
    "user_rating_counts_df = user_df.groupby(\"ID\", as_index=False).size()\n",
    "user_rating_counts_df.sort_values(\"size\", ascending=False)"
   ],
   "metadata": {
    "collapsed": false,
    "pycharm": {
     "name": "#%%\n"
    }
   }
  },
  {
   "cell_type": "code",
   "execution_count": 155,
   "outputs": [
    {
     "data": {
      "text/plain": "<AxesSubplot: >"
     },
     "execution_count": 155,
     "metadata": {},
     "output_type": "execute_result"
    },
    {
     "data": {
      "text/plain": "<Figure size 640x480 with 1 Axes>",
      "image/png": "[encoded data removed]"
     },
     "metadata": {},
     "output_type": "display_data"
    }
   ],
   "source": [
    "user_rating_counts_df[user_rating_counts_df[\"size\"] < 50][\"size\"].hist()"
   ],
   "metadata": {
    "collapsed": false,
    "pycharm": {
     "name": "#%%\n"
    }
   }
  },
  {
   "cell_type": "code",
   "execution_count": 149,
   "outputs": [
    {
     "data": {
      "text/plain": "0.3468945594607607"
     },
     "execution_count": 149,
     "metadata": {},
     "output_type": "execute_result"
    }
   ],
   "source": [
    "# 35% of the users have given less than 10 ratings\n",
    "(user_rating_counts_df[\"size\"] < 10).sum() / len(user_rating_counts_df)"
   ],
   "metadata": {
    "collapsed": false,
    "pycharm": {
     "name": "#%%\n"
    }
   }
  },
  {
   "cell_type": "code",
   "execution_count": 153,
   "outputs": [
    {
     "data": {
      "text/plain": "0.7650457390467019"
     },
     "execution_count": 153,
     "metadata": {},
     "output_type": "execute_result"
    }
   ],
   "source": [
    "# 88% of the users have given at least 2 ratings\n",
    "# 77% of the users have given at least 5 ratings\n",
    "(user_rating_counts_df[\"size\"] >= 5).sum() / len(user_rating_counts_df)"
   ],
   "metadata": {
    "collapsed": false,
    "pycharm": {
     "name": "#%%\n"
    }
   }
  },
  {
   "cell_type": "markdown",
   "source": [
    "## Step 1: Get the book's description and categories from Google Books API\n",
    "\n",
    "Can't do it because of limitations of Google Books API 😢 (see [here](https://developers.google.com/analytics/devguides/config/mgmt/v3/limits-quotas))."
   ],
   "metadata": {
    "collapsed": false,
    "pycharm": {
     "name": "#%% md\n"
    }
   }
  },
  {
   "cell_type": "code",
   "execution_count": 90,
   "outputs": [],
   "source": [
    "class GoogleBooksAPI:\n",
    "    def __init__(self, book_query: str) -> None:\n",
    "        self._book_query = book_query\n",
    "        url = f\"https://www.googleapis.com/books/v1/volumes?q={book_query}\"\n",
    "        r = requests.get(url)\n",
    "        data = r.json()\n",
    "        if data is None or data.get(\"items\") is None or len(data.get(\"items\")) == 0 or data[\"items\"][0].get(\"volumeInfo\") is None:\n",
    "            raise ValueError(f\"No book found with query: '{book_query}'!\")\n",
    "        self.book_info = data[\"items\"][0][\"volumeInfo\"]\n",
    "\n",
    "    @property\n",
    "    def book_query(self):\n",
    "        return self._book_query\n",
    "\n",
    "    @property\n",
    "    def title(self) -> Optional[str]:\n",
    "        \"\"\"The title of the book, if it exists\"\"\"\n",
    "        if title := self.book_info.get(\"title\"):\n",
    "            if subtitle := self.book_info.get(\"subtitle\"):\n",
    "                title += f\": {subtitle}\"\n",
    "            return title\n",
    "        else:\n",
    "            return None\n",
    "\n",
    "    @property\n",
    "    def authors(self) -> Optional[List[str]]:\n",
    "        \"\"\"The name of the authors of the book\"\"\"\n",
    "        return self.book_info.get(\"authors\")\n",
    "\n",
    "    @property\n",
    "    def description(self) -> Optional[str]:\n",
    "        \"\"\"A description of the book, if one exists\"\"\"\n",
    "        return self.book_info.get(\"description\")\n",
    "\n",
    "    @property\n",
    "    def publisher(self) -> Optional[str]:\n",
    "        \"\"\"A publisher of the book\"\"\"\n",
    "        return self.book_info.get(\"publisher\")\n",
    "\n",
    "    @property\n",
    "    def date(self) -> Optional[str]:\n",
    "        \"\"\"The date in which the book was published\"\"\"\n",
    "        return self.book_info.get(\"publishedDate\")\n",
    "\n",
    "    @property\n",
    "    def categories(self) -> Optional[List[str]]:\n",
    "        \"\"\"The categories of the book, i.e. tags about the content of the book\"\"\"\n",
    "        return self.book_info.get(\"categories\")\n",
    "\n",
    "    @property\n",
    "    def image(self) -> Optional[str]:\n",
    "        \"\"\"An URL containing an image of the book, if one exists\"\"\"\n",
    "        images = self.book_info.get(\"imageLinks\")\n",
    "        if isinstance(images, dict):\n",
    "            return images.get(\"thumbnail\")\n",
    "        return None\n",
    "\n",
    "\n",
    "def get_book_info(book_query: str) -> Dict[str, Any]:\n",
    "    book = GoogleBooksAPI(book_query)\n",
    "    return {\n",
    "        \"title\": book.title,\n",
    "        \"description\": book.description,\n",
    "        \"categories\": book.categories,\n",
    "        \"image_url\": book.image,\n",
    "    }"
   ],
   "metadata": {
    "collapsed": false,
    "pycharm": {
     "name": "#%%\n"
    }
   }
  },
  {
   "cell_type": "code",
   "execution_count": 79,
   "outputs": [
    {
     "name": "stdout",
     "output_type": "stream",
     "text": [
      "\n",
      "    Query: The Hidden Persuaders\n",
      "    Title: The Hidden Persuaders\n",
      "    Authors: ['Vance Packard', 'Vance Oakley Packard'] (Vance Packard)\n",
      "    Description: The first book to expose how advertising and media attempts to control our thoughts and desires.\n",
      "    Date: 1981 (2007)\n",
      "    Publisher: None (Pocket Books)\n",
      "    Tags: ['Advertising']\n",
      "    \n"
     ]
    }
   ],
   "source": [
    "sample_book = df.sample(1).iloc[0]\n",
    "google_book = GoogleBooksAPI(sample_book[\"Name\"])\n",
    "print(\n",
    "    f\"\"\"\n",
    "    Query: {google_book.book_query}\n",
    "    Title: {google_book.title}\n",
    "    Authors: {google_book.authors} ({sample_book['Authors']})\n",
    "    Description: {google_book.description}\n",
    "    Date: {google_book.date} ({sample_book['PublishYear']})\n",
    "    Publisher: {google_book.publisher} ({sample_book['Publisher']})\n",
    "    Tags: {google_book.categories}\n",
    "    \"\"\"\n",
    ")"
   ],
   "metadata": {
    "collapsed": false,
    "pycharm": {
     "name": "#%%\n"
    }
   }
  },
  {
   "cell_type": "code",
   "execution_count": 83,
   "outputs": [
    {
     "name": "stderr",
     "output_type": "stream",
     "text": [
      "/Users/ines.pedro/Code/full-stack-deep-learning/deep-tsundoku/venv/lib/python3.9/site-packages/pandarallel/data_types/series.py:16: FutureWarning: The behavior of `series[i:j]` with an integer-dtype index is deprecated. In a future version, this will be treated as *label-based* indexing, consistent with e.g. `series[i]` lookups. To retain the old behavior, use `series.iloc[i:j]`. To get the future behavior, use `series.loc[i:j]`.\n",
      "  yield data[chunk_]\n"
     ]
    },
    {
     "data": {
      "text/plain": "VBox(children=(HBox(children=(IntProgress(value=0, description='0.00%', max=250), Label(value='0 / 250'))), HB…",
      "application/vnd.jupyter.widget-view+json": {
       "version_major": 2,
       "version_minor": 0,
       "model_id": "76289655f2bc4202ad05f435860075f8"
      }
     },
     "metadata": {},
     "output_type": "display_data"
    }
   ],
   "source": [
    "df[\"BookInfo\"] = df[\"Name\"].parallel_apply(get_book_info)"
   ],
   "metadata": {
    "collapsed": false,
    "pycharm": {
     "name": "#%%\n"
    }
   }
  },
  {
   "cell_type": "code",
   "execution_count": 85,
   "outputs": [],
   "source": [
    "for key, col in {\"title\": \"Title\", \"description\": \"Description\", \"categories\": \"Categories\", \"image_url\": \"ImageURL\"}.items():\n",
    "    df[col] = df[\"BookInfo\"].apply(lambda d: d.get(key))"
   ],
   "metadata": {
    "collapsed": false,
    "pycharm": {
     "name": "#%%\n"
    }
   }
  },
  {
   "cell_type": "code",
   "execution_count": 87,
   "outputs": [
    {
     "data": {
      "text/plain": "          Id                                               Name RatingDist1  \\\n36780  62408                     Aléxandros: Las arenas de Amón        1:30   \n21532  35885                                          Flashback         1:4   \n26262  43714  Instructor's Manual t/a Structure and Interpre...         1:0   \n23947  39800                              A Bridge to the Stars        1:47   \n38848  66433  Harriet Jacobs and Incidents in the Life of a ...         1:0   \n\n       pagesNumber RatingDist4 RatingDistTotal  PublishMonth  PublishDay  \\\n36780          341      4:2037      total:5194            28           1   \n21532          407        4:27       total:101             1          10   \n26262          224        4:10        total:33            15           9   \n23947          160       4:316      total:1050             1           9   \n38848          320        4:11        total:32            18           4   \n\n                        Publisher  CountsOfReview  ...  NumRating2 NumRating3  \\\n36780              Mondadori (IT)               0  ...         182        950   \n21532                  Avon Books               9  ...           7         34   \n26262              MIT Press (MA)               1  ...           2          3   \n23947                    Andersen               2  ...         133        345   \n38848  Cambridge University Press               6  ...           0          9   \n\n      NumRating4  NumRating5 NumRatings  \\\n36780       2037        1995       5194   \n21532         27          29        101   \n26262         10          18         33   \n23947        316         209       1050   \n38848         11          12         32   \n\n                                                BookInfo  \\\n36780                                                 {}   \n21532                                                 {}   \n26262                                                 {}   \n23947  {'title': 'A Bridge to the Stars', 'descriptio...   \n38848                                                 {}   \n\n                       Title  \\\n36780                   None   \n21532                   None   \n26262                   None   \n23947  A Bridge to the Stars   \n38848                   None   \n\n                                             Description          Categories  \\\n36780                                               None                None   \n21532                                               None                None   \n26262                                               None                None   \n23947  12 year old Joel lives with his father in the ...  [Juvenile Fiction]   \n38848                                               None                None   \n\n                                                ImageURL  \n36780                                               None  \n21532                                               None  \n26262                                               None  \n23947  http://books.google.com/books/content?id=Cwvja...  \n38848                                               None  \n\n[5 rows x 29 columns]",
      "text/html": "<div>\n<style scoped>\n    .dataframe tbody tr th:only-of-type {\n        vertical-align: middle;\n    }\n\n    .dataframe tbody tr th {\n        vertical-align: top;\n    }\n\n    .dataframe thead th {\n        text-align: right;\n    }\n</style>\n<table border=\"1\" class=\"dataframe\">\n  <thead>\n    <tr style=\"text-align: right;\">\n      <th></th>\n      <th>Id</th>\n      <th>Name</th>\n      <th>RatingDist1</th>\n      <th>pagesNumber</th>\n      <th>RatingDist4</th>\n      <th>RatingDistTotal</th>\n      <th>PublishMonth</th>\n      <th>PublishDay</th>\n      <th>Publisher</th>\n      <th>CountsOfReview</th>\n      <th>...</th>\n      <th>NumRating2</th>\n      <th>NumRating3</th>\n      <th>NumRating4</th>\n      <th>NumRating5</th>\n      <th>NumRatings</th>\n      <th>BookInfo</th>\n      <th>Title</th>\n      <th>Description</th>\n      <th>Categories</th>\n      <th>ImageURL</th>\n    </tr>\n  </thead>\n  <tbody>\n    <tr>\n      <th>36780</th>\n      <td>62408</td>\n      <td>Aléxandros: Las arenas de Amón</td>\n      <td>1:30</td>\n      <td>341</td>\n      <td>4:2037</td>\n      <td>total:5194</td>\n      <td>28</td>\n      <td>1</td>\n      <td>Mondadori (IT)</td>\n      <td>0</td>\n      <td>...</td>\n      <td>182</td>\n      <td>950</td>\n      <td>2037</td>\n      <td>1995</td>\n      <td>5194</td>\n      <td>{}</td>\n      <td>None</td>\n      <td>None</td>\n      <td>None</td>\n      <td>None</td>\n    </tr>\n    <tr>\n      <th>21532</th>\n      <td>35885</td>\n      <td>Flashback</td>\n      <td>1:4</td>\n      <td>407</td>\n      <td>4:27</td>\n      <td>total:101</td>\n      <td>1</td>\n      <td>10</td>\n      <td>Avon Books</td>\n      <td>9</td>\n      <td>...</td>\n      <td>7</td>\n      <td>34</td>\n      <td>27</td>\n      <td>29</td>\n      <td>101</td>\n      <td>{}</td>\n      <td>None</td>\n      <td>None</td>\n      <td>None</td>\n      <td>None</td>\n    </tr>\n    <tr>\n      <th>26262</th>\n      <td>43714</td>\n      <td>Instructor's Manual t/a Structure and Interpre...</td>\n      <td>1:0</td>\n      <td>224</td>\n      <td>4:10</td>\n      <td>total:33</td>\n      <td>15</td>\n      <td>9</td>\n      <td>MIT Press (MA)</td>\n      <td>1</td>\n      <td>...</td>\n      <td>2</td>\n      <td>3</td>\n      <td>10</td>\n      <td>18</td>\n      <td>33</td>\n      <td>{}</td>\n      <td>None</td>\n      <td>None</td>\n      <td>None</td>\n      <td>None</td>\n    </tr>\n    <tr>\n      <th>23947</th>\n      <td>39800</td>\n      <td>A Bridge to the Stars</td>\n      <td>1:47</td>\n      <td>160</td>\n      <td>4:316</td>\n      <td>total:1050</td>\n      <td>1</td>\n      <td>9</td>\n      <td>Andersen</td>\n      <td>2</td>\n      <td>...</td>\n      <td>133</td>\n      <td>345</td>\n      <td>316</td>\n      <td>209</td>\n      <td>1050</td>\n      <td>{'title': 'A Bridge to the Stars', 'descriptio...</td>\n      <td>A Bridge to the Stars</td>\n      <td>12 year old Joel lives with his father in the ...</td>\n      <td>[Juvenile Fiction]</td>\n      <td>http://books.google.com/books/content?id=Cwvja...</td>\n    </tr>\n    <tr>\n      <th>38848</th>\n      <td>66433</td>\n      <td>Harriet Jacobs and Incidents in the Life of a ...</td>\n      <td>1:0</td>\n      <td>320</td>\n      <td>4:11</td>\n      <td>total:32</td>\n      <td>18</td>\n      <td>4</td>\n      <td>Cambridge University Press</td>\n      <td>6</td>\n      <td>...</td>\n      <td>0</td>\n      <td>9</td>\n      <td>11</td>\n      <td>12</td>\n      <td>32</td>\n      <td>{}</td>\n      <td>None</td>\n      <td>None</td>\n      <td>None</td>\n      <td>None</td>\n    </tr>\n  </tbody>\n</table>\n<p>5 rows × 29 columns</p>\n</div>"
     },
     "execution_count": 87,
     "metadata": {},
     "output_type": "execute_result"
    }
   ],
   "source": [
    "df.sample(5)"
   ],
   "metadata": {
    "collapsed": false,
    "pycharm": {
     "name": "#%%\n"
    }
   }
  },
  {
   "cell_type": "code",
   "execution_count": 95,
   "outputs": [],
   "source": [
    "url = f\"https://www.googleapis.com/books/v1/volumes?q=Aléxandros: Las arenas de Amón\"\n",
    "r = requests.get(url)\n",
    "data = r.json()\n",
    "# if data is None or data.get(\"items\") is None or len(data.get(\"items\")) == 0 or data[\"items\"][0].get(\"volumeInfo\") is None:\n",
    "#     raise ValueError(f\"No book found with query: '{book_query}'!\")\n",
    "# self.book_info = data[\"items\"][0][\"volumeInfo\"]"
   ],
   "metadata": {
    "collapsed": false,
    "pycharm": {
     "name": "#%%\n"
    }
   }
  },
  {
   "cell_type": "code",
   "execution_count": 96,
   "outputs": [
    {
     "data": {
      "text/plain": "{'error': {'code': 429,\n  'message': \"Quota exceeded for quota metric 'Queries' and limit 'Queries per minute per user' of service 'books.googleapis.com' for consumer 'project_number:624717413613'.\",\n  'errors': [{'message': \"Quota exceeded for quota metric 'Queries' and limit 'Queries per minute per user' of service 'books.googleapis.com' for consumer 'project_number:624717413613'.\",\n    'domain': 'global',\n    'reason': 'rateLimitExceeded'}],\n  'status': 'RESOURCE_EXHAUSTED',\n  'details': [{'@type': 'type.googleapis.com/google.rpc.ErrorInfo',\n    'reason': 'RATE_LIMIT_EXCEEDED',\n    'domain': 'googleapis.com',\n    'metadata': {'service': 'books.googleapis.com',\n     'quota_limit_value': '100',\n     'quota_location': 'global',\n     'quota_metric': 'books.googleapis.com/default',\n     'quota_limit': 'defaultPerMinutePerUser',\n     'consumer': 'projects/624717413613'}},\n   {'@type': 'type.googleapis.com/google.rpc.Help',\n    'links': [{'description': 'Request a higher quota limit.',\n      'url': 'https://cloud.google.com/docs/quota#requesting_higher_quota'}]}]}}"
     },
     "execution_count": 96,
     "metadata": {},
     "output_type": "execute_result"
    }
   ],
   "source": [
    "data"
   ],
   "metadata": {
    "collapsed": false,
    "pycharm": {
     "name": "#%%\n"
    }
   }
  },
  {
   "cell_type": "code",
   "execution_count": 94,
   "outputs": [
    {
     "ename": "ValueError",
     "evalue": "No book found with query: 'Aléxandros: Las arenas de Amón'!",
     "output_type": "error",
     "traceback": [
      "\u001B[0;31m---------------------------------------------------------------------------\u001B[0m",
      "\u001B[0;31mValueError\u001B[0m                                Traceback (most recent call last)",
      "Cell \u001B[0;32mIn [94], line 1\u001B[0m\n\u001B[0;32m----> 1\u001B[0m _book \u001B[38;5;241m=\u001B[39m GoogleBooksAPI(\u001B[38;5;124m\"\u001B[39m\u001B[38;5;124mAléxandros: Las arenas de Amón\u001B[39m\u001B[38;5;124m\"\u001B[39m)\n\u001B[1;32m      2\u001B[0m _book\u001B[38;5;241m.\u001B[39mbook_info\n",
      "Cell \u001B[0;32mIn [90], line 8\u001B[0m, in \u001B[0;36mGoogleBooksAPI.__init__\u001B[0;34m(self, book_query)\u001B[0m\n\u001B[1;32m      6\u001B[0m data \u001B[38;5;241m=\u001B[39m r\u001B[38;5;241m.\u001B[39mjson()\n\u001B[1;32m      7\u001B[0m \u001B[38;5;28;01mif\u001B[39;00m data \u001B[38;5;129;01mis\u001B[39;00m \u001B[38;5;28;01mNone\u001B[39;00m \u001B[38;5;129;01mor\u001B[39;00m data\u001B[38;5;241m.\u001B[39mget(\u001B[38;5;124m\"\u001B[39m\u001B[38;5;124mitems\u001B[39m\u001B[38;5;124m\"\u001B[39m) \u001B[38;5;129;01mis\u001B[39;00m \u001B[38;5;28;01mNone\u001B[39;00m \u001B[38;5;129;01mor\u001B[39;00m \u001B[38;5;28mlen\u001B[39m(data\u001B[38;5;241m.\u001B[39mget(\u001B[38;5;124m\"\u001B[39m\u001B[38;5;124mitems\u001B[39m\u001B[38;5;124m\"\u001B[39m)) \u001B[38;5;241m==\u001B[39m \u001B[38;5;241m0\u001B[39m \u001B[38;5;129;01mor\u001B[39;00m data[\u001B[38;5;124m\"\u001B[39m\u001B[38;5;124mitems\u001B[39m\u001B[38;5;124m\"\u001B[39m][\u001B[38;5;241m0\u001B[39m]\u001B[38;5;241m.\u001B[39mget(\u001B[38;5;124m\"\u001B[39m\u001B[38;5;124mvolumeInfo\u001B[39m\u001B[38;5;124m\"\u001B[39m) \u001B[38;5;129;01mis\u001B[39;00m \u001B[38;5;28;01mNone\u001B[39;00m:\n\u001B[0;32m----> 8\u001B[0m     \u001B[38;5;28;01mraise\u001B[39;00m \u001B[38;5;167;01mValueError\u001B[39;00m(\u001B[38;5;124mf\u001B[39m\u001B[38;5;124m\"\u001B[39m\u001B[38;5;124mNo book found with query: \u001B[39m\u001B[38;5;124m'\u001B[39m\u001B[38;5;132;01m{\u001B[39;00mbook_query\u001B[38;5;132;01m}\u001B[39;00m\u001B[38;5;124m'\u001B[39m\u001B[38;5;124m!\u001B[39m\u001B[38;5;124m\"\u001B[39m)\n\u001B[1;32m      9\u001B[0m \u001B[38;5;28mself\u001B[39m\u001B[38;5;241m.\u001B[39mbook_info \u001B[38;5;241m=\u001B[39m data[\u001B[38;5;124m\"\u001B[39m\u001B[38;5;124mitems\u001B[39m\u001B[38;5;124m\"\u001B[39m][\u001B[38;5;241m0\u001B[39m][\u001B[38;5;124m\"\u001B[39m\u001B[38;5;124mvolumeInfo\u001B[39m\u001B[38;5;124m\"\u001B[39m]\n",
      "\u001B[0;31mValueError\u001B[0m: No book found with query: 'Aléxandros: Las arenas de Amón'!"
     ]
    }
   ],
   "source": [
    "_book = GoogleBooksAPI(\"Aléxandros: Las arenas de Amón\")\n",
    "_book.book_info"
   ],
   "metadata": {
    "collapsed": false,
    "pycharm": {
     "name": "#%%\n"
    }
   }
  },
  {
   "cell_type": "code",
   "execution_count": 91,
   "outputs": [
    {
     "ename": "ValueError",
     "evalue": "No book found with query: 'Aléxandros: Las arenas de Amón'!",
     "output_type": "error",
     "traceback": [
      "\u001B[0;31m---------------------------------------------------------------------------\u001B[0m",
      "\u001B[0;31mValueError\u001B[0m                                Traceback (most recent call last)",
      "Cell \u001B[0;32mIn [91], line 1\u001B[0m\n\u001B[0;32m----> 1\u001B[0m get_book_info(\u001B[38;5;124m\"\u001B[39m\u001B[38;5;124mAléxandros: Las arenas de Amón\u001B[39m\u001B[38;5;124m\"\u001B[39m)\n",
      "Cell \u001B[0;32mIn [90], line 60\u001B[0m, in \u001B[0;36mget_book_info\u001B[0;34m(book_query)\u001B[0m\n\u001B[1;32m     59\u001B[0m \u001B[38;5;28;01mdef\u001B[39;00m \u001B[38;5;21mget_book_info\u001B[39m(book_query: \u001B[38;5;28mstr\u001B[39m) \u001B[38;5;241m-\u001B[39m\u001B[38;5;241m>\u001B[39m Dict[\u001B[38;5;28mstr\u001B[39m, Any]:\n\u001B[0;32m---> 60\u001B[0m     book \u001B[38;5;241m=\u001B[39m \u001B[43mGoogleBooksAPI\u001B[49m\u001B[43m(\u001B[49m\u001B[43mbook_query\u001B[49m\u001B[43m)\u001B[49m\n\u001B[1;32m     61\u001B[0m     \u001B[38;5;28;01mreturn\u001B[39;00m {\n\u001B[1;32m     62\u001B[0m         \u001B[38;5;124m\"\u001B[39m\u001B[38;5;124mtitle\u001B[39m\u001B[38;5;124m\"\u001B[39m: book\u001B[38;5;241m.\u001B[39mtitle,\n\u001B[1;32m     63\u001B[0m         \u001B[38;5;124m\"\u001B[39m\u001B[38;5;124mdescription\u001B[39m\u001B[38;5;124m\"\u001B[39m: book\u001B[38;5;241m.\u001B[39mdescription,\n\u001B[1;32m     64\u001B[0m         \u001B[38;5;124m\"\u001B[39m\u001B[38;5;124mcategories\u001B[39m\u001B[38;5;124m\"\u001B[39m: book\u001B[38;5;241m.\u001B[39mcategories,\n\u001B[1;32m     65\u001B[0m         \u001B[38;5;124m\"\u001B[39m\u001B[38;5;124mimage_url\u001B[39m\u001B[38;5;124m\"\u001B[39m: book\u001B[38;5;241m.\u001B[39mimage,\n\u001B[1;32m     66\u001B[0m     }\n",
      "Cell \u001B[0;32mIn [90], line 8\u001B[0m, in \u001B[0;36mGoogleBooksAPI.__init__\u001B[0;34m(self, book_query)\u001B[0m\n\u001B[1;32m      6\u001B[0m data \u001B[38;5;241m=\u001B[39m r\u001B[38;5;241m.\u001B[39mjson()\n\u001B[1;32m      7\u001B[0m \u001B[38;5;28;01mif\u001B[39;00m data \u001B[38;5;129;01mis\u001B[39;00m \u001B[38;5;28;01mNone\u001B[39;00m \u001B[38;5;129;01mor\u001B[39;00m data\u001B[38;5;241m.\u001B[39mget(\u001B[38;5;124m\"\u001B[39m\u001B[38;5;124mitems\u001B[39m\u001B[38;5;124m\"\u001B[39m) \u001B[38;5;129;01mis\u001B[39;00m \u001B[38;5;28;01mNone\u001B[39;00m \u001B[38;5;129;01mor\u001B[39;00m \u001B[38;5;28mlen\u001B[39m(data\u001B[38;5;241m.\u001B[39mget(\u001B[38;5;124m\"\u001B[39m\u001B[38;5;124mitems\u001B[39m\u001B[38;5;124m\"\u001B[39m)) \u001B[38;5;241m==\u001B[39m \u001B[38;5;241m0\u001B[39m \u001B[38;5;129;01mor\u001B[39;00m data[\u001B[38;5;124m\"\u001B[39m\u001B[38;5;124mitems\u001B[39m\u001B[38;5;124m\"\u001B[39m][\u001B[38;5;241m0\u001B[39m]\u001B[38;5;241m.\u001B[39mget(\u001B[38;5;124m\"\u001B[39m\u001B[38;5;124mvolumeInfo\u001B[39m\u001B[38;5;124m\"\u001B[39m) \u001B[38;5;129;01mis\u001B[39;00m \u001B[38;5;28;01mNone\u001B[39;00m:\n\u001B[0;32m----> 8\u001B[0m     \u001B[38;5;28;01mraise\u001B[39;00m \u001B[38;5;167;01mValueError\u001B[39;00m(\u001B[38;5;124mf\u001B[39m\u001B[38;5;124m\"\u001B[39m\u001B[38;5;124mNo book found with query: \u001B[39m\u001B[38;5;124m'\u001B[39m\u001B[38;5;132;01m{\u001B[39;00mbook_query\u001B[38;5;132;01m}\u001B[39;00m\u001B[38;5;124m'\u001B[39m\u001B[38;5;124m!\u001B[39m\u001B[38;5;124m\"\u001B[39m)\n\u001B[1;32m      9\u001B[0m \u001B[38;5;28mself\u001B[39m\u001B[38;5;241m.\u001B[39mbook_info \u001B[38;5;241m=\u001B[39m data[\u001B[38;5;124m\"\u001B[39m\u001B[38;5;124mitems\u001B[39m\u001B[38;5;124m\"\u001B[39m][\u001B[38;5;241m0\u001B[39m][\u001B[38;5;124m\"\u001B[39m\u001B[38;5;124mvolumeInfo\u001B[39m\u001B[38;5;124m\"\u001B[39m]\n",
      "\u001B[0;31mValueError\u001B[0m: No book found with query: 'Aléxandros: Las arenas de Amón'!"
     ]
    }
   ],
   "source": [
    "get_book_info(\"Aléxandros: Las arenas de Amón\")"
   ],
   "metadata": {
    "collapsed": false,
    "pycharm": {
     "name": "#%%\n"
    }
   }
  },
  {
   "cell_type": "code",
   "execution_count": null,
   "outputs": [],
   "source": [],
   "metadata": {
    "collapsed": false,
    "pycharm": {
     "name": "#%%\n"
    }
   }
  }
 ],
 "metadata": {
  "kernelspec": {
   "display_name": "Python 3",
   "language": "python",
   "name": "python3"
  },
  "language_info": {
   "codemirror_mode": {
    "name": "ipython",
    "version": 2
   },
   "file_extension": ".py",
   "mimetype": "text/x-python",
   "name": "python",
   "nbconvert_exporter": "python",
   "pygments_lexer": "ipython2",
   "version": "2.7.6"
  }
 },
 "nbformat": 4,
 "nbformat_minor": 0
}