{
 "cells": [
  {
   "cell_type": "code",
   "execution_count": 1,
   "outputs": [],
   "source": [
    "import pandas as pd"
   ],
   "metadata": {
    "collapsed": false,
    "pycharm": {
     "name": "#%%\n"
    }
   }
  },
  {
   "cell_type": "code",
   "execution_count": 2,
   "outputs": [
    {
     "data": {
      "text/plain": "              asin  salesRank  \\\n69353   014241543x        1.0   \n101205  0736430512        3.0   \n78365   0307588378        4.0   \n172895  0062345214        6.0   \n138465  1465414053        9.0   \n233070  0345803485       10.0   \n42223   0142402516       10.0   \n2321    1433805618       11.0   \n235795  034580404x       13.0   \n69372   0061122416       14.0   \n\n                                                    imUrl  \\\n69353   http://ecx.images-amazon.com/images/i/81atbry7...   \n101205  http://ecx.images-amazon.com/images/i/51-vyxxk...   \n78365   http://ecx.images-amazon.com/images/i/41yzreg2...   \n172895  http://ecx.images-amazon.com/images/i/51zi1aki...   \n138465  http://ecx.images-amazon.com/images/i/914kjehv...   \n233070  http://ecx.images-amazon.com/images/i/515kzv0-...   \n42223   http://ecx.images-amazon.com/images/i/41r-skjj...   \n2321    http://ecx.images-amazon.com/images/i/71-kfovr...   \n235795  http://ecx.images-amazon.com/images/i/51nzvemz...   \n69372   http://ecx.images-amazon.com/images/i/41mhcmvy...   \n\n                                                    title  \\\n69353                                           if i stay   \n101205          frozen little golden book (disney frozen)   \n78365                                  gone girl: a novel   \n172895    four: a divergent collection (divergent series)   \n138465  ultimate sticker book: frozen (ultimate sticke...   \n233070  fifty shades of grey: book one of the fifty sh...   \n42223                                  looking for alaska   \n2321    publication manual of the american psychologic...   \n235795  fifty shades trilogy: fifty shades of grey, fi...   \n69372                                       the alchemist   \n\n                                              description  price  \\\n69353   an interview with gayle formanq: you started y...   4.99   \n101205                                                NaN   2.06   \n78365   amazon best books of the month, june 2012: on ...   8.52   \n172895  &#8220;fans of divergent who can&#8217;t get e...   9.99   \n138465                                                NaN   6.29   \n233070  a goodreads choice awards finalist for best ro...   4.99   \n42223   grade 9 up - sixteen-year-old miles halter's a...   4.99   \n2321                                                  NaN  24.02   \n235795  e l jamesis a former tv executive, wife and mo...  14.99   \n69372                                                 NaN   5.99   \n\n                                                  related  \n69353   {'also_bought': ['0142420891', '0142402516', '...  \n101205  {'also_bought': ['1465414053', '0736421777', '...  \n78365   {'also_bought': ['0307341577', '0307341550', '...  \n172895  {'also_bought': ['006202406x', '0062024043', '...  \n138465  {'also_bought': ['0736430512', '1450859445', '...  \n233070  {'also_bought': ['0345803493', '0345803507', '...  \n42223   {'also_bought': ['014241493x', '0142410705', '...  \n2321    {'also_bought': ['0135080908', '1437701515', '...  \n235795  {'also_bought': ['1479108634', '1620873346', '...  \n69372   {'also_bought': ['0060527986', '0061687456', '...  ",
      "text/html": "<div>\n<style scoped>\n    .dataframe tbody tr th:only-of-type {\n        vertical-align: middle;\n    }\n\n    .dataframe tbody tr th {\n        vertical-align: top;\n    }\n\n    .dataframe thead th {\n        text-align: right;\n    }\n</style>\n<table border=\"1\" class=\"dataframe\">\n  <thead>\n    <tr style=\"text-align: right;\">\n      <th></th>\n      <th>asin</th>\n      <th>salesRank</th>\n      <th>imUrl</th>\n      <th>title</th>\n      <th>description</th>\n      <th>price</th>\n      <th>related</th>\n    </tr>\n  </thead>\n  <tbody>\n    <tr>\n      <th>69353</th>\n      <td>014241543x</td>\n      <td>1.0</td>\n      <td>http://ecx.images-amazon.com/images/i/81atbry7...</td>\n      <td>if i stay</td>\n      <td>an interview with gayle formanq: you started y...</td>\n      <td>4.99</td>\n      <td>{'also_bought': ['0142420891', '0142402516', '...</td>\n    </tr>\n    <tr>\n      <th>101205</th>\n      <td>0736430512</td>\n      <td>3.0</td>\n      <td>http://ecx.images-amazon.com/images/i/51-vyxxk...</td>\n      <td>frozen little golden book (disney frozen)</td>\n      <td>NaN</td>\n      <td>2.06</td>\n      <td>{'also_bought': ['1465414053', '0736421777', '...</td>\n    </tr>\n    <tr>\n      <th>78365</th>\n      <td>0307588378</td>\n      <td>4.0</td>\n      <td>http://ecx.images-amazon.com/images/i/41yzreg2...</td>\n      <td>gone girl: a novel</td>\n      <td>amazon best books of the month, june 2012: on ...</td>\n      <td>8.52</td>\n      <td>{'also_bought': ['0307341577', '0307341550', '...</td>\n    </tr>\n    <tr>\n      <th>172895</th>\n      <td>0062345214</td>\n      <td>6.0</td>\n      <td>http://ecx.images-amazon.com/images/i/51zi1aki...</td>\n      <td>four: a divergent collection (divergent series)</td>\n      <td>&amp;#8220;fans of divergent who can&amp;#8217;t get e...</td>\n      <td>9.99</td>\n      <td>{'also_bought': ['006202406x', '0062024043', '...</td>\n    </tr>\n    <tr>\n      <th>138465</th>\n      <td>1465414053</td>\n      <td>9.0</td>\n      <td>http://ecx.images-amazon.com/images/i/914kjehv...</td>\n      <td>ultimate sticker book: frozen (ultimate sticke...</td>\n      <td>NaN</td>\n      <td>6.29</td>\n      <td>{'also_bought': ['0736430512', '1450859445', '...</td>\n    </tr>\n    <tr>\n      <th>233070</th>\n      <td>0345803485</td>\n      <td>10.0</td>\n      <td>http://ecx.images-amazon.com/images/i/515kzv0-...</td>\n      <td>fifty shades of grey: book one of the fifty sh...</td>\n      <td>a goodreads choice awards finalist for best ro...</td>\n      <td>4.99</td>\n      <td>{'also_bought': ['0345803493', '0345803507', '...</td>\n    </tr>\n    <tr>\n      <th>42223</th>\n      <td>0142402516</td>\n      <td>10.0</td>\n      <td>http://ecx.images-amazon.com/images/i/41r-skjj...</td>\n      <td>looking for alaska</td>\n      <td>grade 9 up - sixteen-year-old miles halter's a...</td>\n      <td>4.99</td>\n      <td>{'also_bought': ['014241493x', '0142410705', '...</td>\n    </tr>\n    <tr>\n      <th>2321</th>\n      <td>1433805618</td>\n      <td>11.0</td>\n      <td>http://ecx.images-amazon.com/images/i/71-kfovr...</td>\n      <td>publication manual of the american psychologic...</td>\n      <td>NaN</td>\n      <td>24.02</td>\n      <td>{'also_bought': ['0135080908', '1437701515', '...</td>\n    </tr>\n    <tr>\n      <th>235795</th>\n      <td>034580404x</td>\n      <td>13.0</td>\n      <td>http://ecx.images-amazon.com/images/i/51nzvemz...</td>\n      <td>fifty shades trilogy: fifty shades of grey, fi...</td>\n      <td>e l jamesis a former tv executive, wife and mo...</td>\n      <td>14.99</td>\n      <td>{'also_bought': ['1479108634', '1620873346', '...</td>\n    </tr>\n    <tr>\n      <th>69372</th>\n      <td>0061122416</td>\n      <td>14.0</td>\n      <td>http://ecx.images-amazon.com/images/i/41mhcmvy...</td>\n      <td>the alchemist</td>\n      <td>NaN</td>\n      <td>5.99</td>\n      <td>{'also_bought': ['0060527986', '0061687456', '...</td>\n    </tr>\n  </tbody>\n</table>\n</div>"
     },
     "execution_count": 2,
     "metadata": {},
     "output_type": "execute_result"
    }
   ],
   "source": [
    "books = pd.read_csv('../data/books.csv')\n",
    "books = books.sort_values(by='salesRank')\n",
    "books.head(10)"
   ],
   "metadata": {
    "collapsed": false,
    "pycharm": {
     "name": "#%%\n"
    }
   }
  },
  {
   "cell_type": "code",
   "execution_count": 3,
   "outputs": [
    {
     "data": {
      "text/plain": "              asin  salesRank  \\\n366664  1612185916      233.0   \n18923   0439064872      522.0   \n366706  0439139600      567.0   \n13339   0439358078      601.0   \n429839  0439136369      770.0   \n261464  0545615402      776.0   \n235027  0545162076     1061.0   \n244797  0439064864     1628.0   \n209852  0545128285     1927.0   \n209830  0439136350     2487.0   \n\n                                                    imUrl  \\\n366664  http://ecx.images-amazon.com/images/i/51bn9hb8...   \n18923   http://ecx.images-amazon.com/images/i/51jnorv6...   \n366706  http://ecx.images-amazon.com/images/i/51puatl2...   \n13339   http://ecx.images-amazon.com/images/i/51o0qiau...   \n429839  http://ecx.images-amazon.com/images/i/51gy5jzz...   \n261464  http://ecx.images-amazon.com/images/i/51ka-ppw...   \n235027  http://ecx.images-amazon.com/images/i/91bxywa0...   \n244797  http://ecx.images-amazon.com/images/i/51hxkv6r...   \n209852  http://ecx.images-amazon.com/images/i/717qczcr...   \n209830  http://ecx.images-amazon.com/images/i/81lapl9f...   \n\n                                                    title  \\\n366664  harry potter page to screen: the complete film...   \n18923             harry potter and the chamber of secrets   \n366706                harry potter and the goblet of fire   \n13339           harry potter and the order of the phoenix   \n429839           harry potter and the prisoner of azkaban   \n261464                the hogwarts library (harry potter)   \n235027         harry potter paperback box set (books 1-7)   \n244797            harry potter and the chamber of secrets   \n209852  the tales of beedle the bard, standard edition...   \n209830           harry potter and the prisoner of azkaban   \n\n                                              description   price  \\\n366664                                                NaN  600.00   \n18923   what makes the harry potter series so successf...    7.99   \n366706  inharry potter and the goblet of fire, j.k. ro...    9.99   \n13339   as his fifth year at hogwarts school of witchc...    9.99   \n429839  for most children, summer vacation is somethin...    7.99   \n261464  j. k. rowling is the author of the beloved, be...   17.98   \n235027  'the listener is clutched by the throat' daily...   47.94   \n244797  it's hard to fall in love with an earnest, app...    7.99   \n209852  the tales of beedle the bard, standard edition...    5.99   \n209830  for most children, summer vacation is somethin...    7.99   \n\n                                                  related  \n366664  {'also_bought': ['b008mckl5w', 'b00ldcgbne', '...  \n18923   {'also_bought': ['0439136369', '059035342x', '...  \n366706  {'also_bought': ['0439358078', '0439136369', '...  \n13339   {'also_bought': ['0439785960', '0545139708', '...  \n429839  {'also_bought': ['0439064872', '0439139600', '...  \n261464  {'also_bought': ['1616991283', 'b0026pw67w', '...  \n235027  {'also_bought': ['b005ocfgto', '1484707230', '...  \n244797  {'also_bought': ['0439136350', '0590353403', '...  \n209852  {'also_bought': ['043932162x', '0439321603', '...  \n209830  {'also_bought': ['0439064864', '0439139597', '...  ",
      "text/html": "<div>\n<style scoped>\n    .dataframe tbody tr th:only-of-type {\n        vertical-align: middle;\n    }\n\n    .dataframe tbody tr th {\n        vertical-align: top;\n    }\n\n    .dataframe thead th {\n        text-align: right;\n    }\n</style>\n<table border=\"1\" class=\"dataframe\">\n  <thead>\n    <tr style=\"text-align: right;\">\n      <th></th>\n      <th>asin</th>\n      <th>salesRank</th>\n      <th>imUrl</th>\n      <th>title</th>\n      <th>description</th>\n      <th>price</th>\n      <th>related</th>\n    </tr>\n  </thead>\n  <tbody>\n    <tr>\n      <th>366664</th>\n      <td>1612185916</td>\n      <td>233.0</td>\n      <td>http://ecx.images-amazon.com/images/i/51bn9hb8...</td>\n      <td>harry potter page to screen: the complete film...</td>\n      <td>NaN</td>\n      <td>600.00</td>\n      <td>{'also_bought': ['b008mckl5w', 'b00ldcgbne', '...</td>\n    </tr>\n    <tr>\n      <th>18923</th>\n      <td>0439064872</td>\n      <td>522.0</td>\n      <td>http://ecx.images-amazon.com/images/i/51jnorv6...</td>\n      <td>harry potter and the chamber of secrets</td>\n      <td>what makes the harry potter series so successf...</td>\n      <td>7.99</td>\n      <td>{'also_bought': ['0439136369', '059035342x', '...</td>\n    </tr>\n    <tr>\n      <th>366706</th>\n      <td>0439139600</td>\n      <td>567.0</td>\n      <td>http://ecx.images-amazon.com/images/i/51puatl2...</td>\n      <td>harry potter and the goblet of fire</td>\n      <td>inharry potter and the goblet of fire, j.k. ro...</td>\n      <td>9.99</td>\n      <td>{'also_bought': ['0439358078', '0439136369', '...</td>\n    </tr>\n    <tr>\n      <th>13339</th>\n      <td>0439358078</td>\n      <td>601.0</td>\n      <td>http://ecx.images-amazon.com/images/i/51o0qiau...</td>\n      <td>harry potter and the order of the phoenix</td>\n      <td>as his fifth year at hogwarts school of witchc...</td>\n      <td>9.99</td>\n      <td>{'also_bought': ['0439785960', '0545139708', '...</td>\n    </tr>\n    <tr>\n      <th>429839</th>\n      <td>0439136369</td>\n      <td>770.0</td>\n      <td>http://ecx.images-amazon.com/images/i/51gy5jzz...</td>\n      <td>harry potter and the prisoner of azkaban</td>\n      <td>for most children, summer vacation is somethin...</td>\n      <td>7.99</td>\n      <td>{'also_bought': ['0439064872', '0439139600', '...</td>\n    </tr>\n    <tr>\n      <th>261464</th>\n      <td>0545615402</td>\n      <td>776.0</td>\n      <td>http://ecx.images-amazon.com/images/i/51ka-ppw...</td>\n      <td>the hogwarts library (harry potter)</td>\n      <td>j. k. rowling is the author of the beloved, be...</td>\n      <td>17.98</td>\n      <td>{'also_bought': ['1616991283', 'b0026pw67w', '...</td>\n    </tr>\n    <tr>\n      <th>235027</th>\n      <td>0545162076</td>\n      <td>1061.0</td>\n      <td>http://ecx.images-amazon.com/images/i/91bxywa0...</td>\n      <td>harry potter paperback box set (books 1-7)</td>\n      <td>'the listener is clutched by the throat' daily...</td>\n      <td>47.94</td>\n      <td>{'also_bought': ['b005ocfgto', '1484707230', '...</td>\n    </tr>\n    <tr>\n      <th>244797</th>\n      <td>0439064864</td>\n      <td>1628.0</td>\n      <td>http://ecx.images-amazon.com/images/i/51hxkv6r...</td>\n      <td>harry potter and the chamber of secrets</td>\n      <td>it's hard to fall in love with an earnest, app...</td>\n      <td>7.99</td>\n      <td>{'also_bought': ['0439136350', '0590353403', '...</td>\n    </tr>\n    <tr>\n      <th>209852</th>\n      <td>0545128285</td>\n      <td>1927.0</td>\n      <td>http://ecx.images-amazon.com/images/i/717qczcr...</td>\n      <td>the tales of beedle the bard, standard edition...</td>\n      <td>the tales of beedle the bard, standard edition...</td>\n      <td>5.99</td>\n      <td>{'also_bought': ['043932162x', '0439321603', '...</td>\n    </tr>\n    <tr>\n      <th>209830</th>\n      <td>0439136350</td>\n      <td>2487.0</td>\n      <td>http://ecx.images-amazon.com/images/i/81lapl9f...</td>\n      <td>harry potter and the prisoner of azkaban</td>\n      <td>for most children, summer vacation is somethin...</td>\n      <td>7.99</td>\n      <td>{'also_bought': ['0439064864', '0439139597', '...</td>\n    </tr>\n  </tbody>\n</table>\n</div>"
     },
     "execution_count": 3,
     "metadata": {},
     "output_type": "execute_result"
    }
   ],
   "source": [
    "top10_harry_potter = books[books['title'].str.contains('harry potter') == True].head(10)\n",
    "top10_harry_potter"
   ],
   "metadata": {
    "collapsed": false,
    "pycharm": {
     "name": "#%%\n"
    }
   }
  },
  {
   "cell_type": "code",
   "execution_count": 4,
   "outputs": [
    {
     "data": {
      "text/plain": "              asin  salesRank  \\\n310265  0495110817    14441.0   \n541137  0131867938    69381.0   \n28534   0131427067    84182.0   \n573779  0534377416    86175.0   \n218657  032180709x    92703.0   \n116213  0321795431    93755.0   \n139312  1461403901   129895.0   \n357703  0130085073   141541.0   \n579577  0534380204   145764.0   \n115416  0321693949   163560.0   \n\n                                                    imUrl  \\\n310265  http://ecx.images-amazon.com/images/i/51eykbxt...   \n541137  http://ecx.images-amazon.com/images/i/51hw125h...   \n28534   http://ecx.images-amazon.com/images/i/4135w32k...   \n573779  http://ecx.images-amazon.com/images/i/311zcaq-...   \n218657  http://ecx.images-amazon.com/images/i/41j5hkcv...   \n116213  http://ecx.images-amazon.com/images/i/51sualvc...   \n139312  http://ecx.images-amazon.com/images/i/412lbnun...   \n357703  http://ecx.images-amazon.com/images/i/41snvee1...   \n579577  http://ecx.images-amazon.com/images/i/41vtt5ab...   \n115416  http://ecx.images-amazon.com/images/i/41-67rxe...   \n\n                                                    title  \\\n310265          mathematical statistics with applications   \n541137  introduction to mathematical statistics and it...   \n28534   john e. freund's mathematical statistics with ...   \n573779  mathematical statistics with applications (mat...   \n218657  john e. freund's mathematical statistics with ...   \n116213  introduction to mathematical statistics (7th e...   \n139312  modern mathematical statistics with applicatio...   \n357703            introduction to mathematical statistics   \n579577  introduction to probability and mathematical s...   \n115416  introduction to mathematical statistics and it...   \n\n                                              description   price  \\\n310265  1. what is statistics? introduction. character...   45.75   \n541137                                                NaN   30.00   \n28534   this classic, calculus-based introduction to t...   11.99   \n573779  richard l. scheaffer, professor emeritus of st...   21.80   \n218657                                                NaN   38.00   \n116213                                                NaN   40.25   \n139312  1.overview and descriptive statistics. introdu...   23.25   \n357703  \"the writing style is exceptionally clear; als...  147.34   \n579577  1. probability 2. random variables and their d...   42.50   \n115416                                                NaN   42.25   \n\n                                                  related  \n310265  {'also_bought': ['0495385069', '0321584759', '...  \n541137  {'also_bought': ['0131867962', '0321694023', '...  \n28534   {'also_bought': ['0821847872', '0201763907', '...  \n573779  {'also_bought': ['0534382363', '0131464132', '...  \n218657  {'also_bought': ['1133599702', '0201763907', '...  \n116213  {'also_bought': ['0073014664', '0534243126', '...  \n139312  {'also_bought': ['053440474x', '1111827052', '...  \n357703  {'also_bought': ['0195073401', '0534243126', '...  \n579577  {'also_bought': ['0132296381', '0470542810', '...  \n115416  {'also_bought': ['0321694023', '0387979743', '...  ",
      "text/html": "<div>\n<style scoped>\n    .dataframe tbody tr th:only-of-type {\n        vertical-align: middle;\n    }\n\n    .dataframe tbody tr th {\n        vertical-align: top;\n    }\n\n    .dataframe thead th {\n        text-align: right;\n    }\n</style>\n<table border=\"1\" class=\"dataframe\">\n  <thead>\n    <tr style=\"text-align: right;\">\n      <th></th>\n      <th>asin</th>\n      <th>salesRank</th>\n      <th>imUrl</th>\n      <th>title</th>\n      <th>description</th>\n      <th>price</th>\n      <th>related</th>\n    </tr>\n  </thead>\n  <tbody>\n    <tr>\n      <th>310265</th>\n      <td>0495110817</td>\n      <td>14441.0</td>\n      <td>http://ecx.images-amazon.com/images/i/51eykbxt...</td>\n      <td>mathematical statistics with applications</td>\n      <td>1. what is statistics? introduction. character...</td>\n      <td>45.75</td>\n      <td>{'also_bought': ['0495385069', '0321584759', '...</td>\n    </tr>\n    <tr>\n      <th>541137</th>\n      <td>0131867938</td>\n      <td>69381.0</td>\n      <td>http://ecx.images-amazon.com/images/i/51hw125h...</td>\n      <td>introduction to mathematical statistics and it...</td>\n      <td>NaN</td>\n      <td>30.00</td>\n      <td>{'also_bought': ['0131867962', '0321694023', '...</td>\n    </tr>\n    <tr>\n      <th>28534</th>\n      <td>0131427067</td>\n      <td>84182.0</td>\n      <td>http://ecx.images-amazon.com/images/i/4135w32k...</td>\n      <td>john e. freund's mathematical statistics with ...</td>\n      <td>this classic, calculus-based introduction to t...</td>\n      <td>11.99</td>\n      <td>{'also_bought': ['0821847872', '0201763907', '...</td>\n    </tr>\n    <tr>\n      <th>573779</th>\n      <td>0534377416</td>\n      <td>86175.0</td>\n      <td>http://ecx.images-amazon.com/images/i/311zcaq-...</td>\n      <td>mathematical statistics with applications (mat...</td>\n      <td>richard l. scheaffer, professor emeritus of st...</td>\n      <td>21.80</td>\n      <td>{'also_bought': ['0534382363', '0131464132', '...</td>\n    </tr>\n    <tr>\n      <th>218657</th>\n      <td>032180709x</td>\n      <td>92703.0</td>\n      <td>http://ecx.images-amazon.com/images/i/41j5hkcv...</td>\n      <td>john e. freund's mathematical statistics with ...</td>\n      <td>NaN</td>\n      <td>38.00</td>\n      <td>{'also_bought': ['1133599702', '0201763907', '...</td>\n    </tr>\n    <tr>\n      <th>116213</th>\n      <td>0321795431</td>\n      <td>93755.0</td>\n      <td>http://ecx.images-amazon.com/images/i/51sualvc...</td>\n      <td>introduction to mathematical statistics (7th e...</td>\n      <td>NaN</td>\n      <td>40.25</td>\n      <td>{'also_bought': ['0073014664', '0534243126', '...</td>\n    </tr>\n    <tr>\n      <th>139312</th>\n      <td>1461403901</td>\n      <td>129895.0</td>\n      <td>http://ecx.images-amazon.com/images/i/412lbnun...</td>\n      <td>modern mathematical statistics with applicatio...</td>\n      <td>1.overview and descriptive statistics. introdu...</td>\n      <td>23.25</td>\n      <td>{'also_bought': ['053440474x', '1111827052', '...</td>\n    </tr>\n    <tr>\n      <th>357703</th>\n      <td>0130085073</td>\n      <td>141541.0</td>\n      <td>http://ecx.images-amazon.com/images/i/41snvee1...</td>\n      <td>introduction to mathematical statistics</td>\n      <td>\"the writing style is exceptionally clear; als...</td>\n      <td>147.34</td>\n      <td>{'also_bought': ['0195073401', '0534243126', '...</td>\n    </tr>\n    <tr>\n      <th>579577</th>\n      <td>0534380204</td>\n      <td>145764.0</td>\n      <td>http://ecx.images-amazon.com/images/i/41vtt5ab...</td>\n      <td>introduction to probability and mathematical s...</td>\n      <td>1. probability 2. random variables and their d...</td>\n      <td>42.50</td>\n      <td>{'also_bought': ['0132296381', '0470542810', '...</td>\n    </tr>\n    <tr>\n      <th>115416</th>\n      <td>0321693949</td>\n      <td>163560.0</td>\n      <td>http://ecx.images-amazon.com/images/i/41-67rxe...</td>\n      <td>introduction to mathematical statistics and it...</td>\n      <td>NaN</td>\n      <td>42.25</td>\n      <td>{'also_bought': ['0321694023', '0387979743', '...</td>\n    </tr>\n  </tbody>\n</table>\n</div>"
     },
     "execution_count": 4,
     "metadata": {},
     "output_type": "execute_result"
    }
   ],
   "source": [
    "top10_math_stats = books[books['title'].str.contains('mathematical statistics') == True].head(10)\n",
    "top10_math_stats"
   ],
   "metadata": {
    "collapsed": false,
    "pycharm": {
     "name": "#%%\n"
    }
   }
  },
  {
   "cell_type": "code",
   "execution_count": 5,
   "outputs": [
    {
     "data": {
      "text/plain": "              asin  salesRank  \\\n8538    0310708257      151.0   \n109546  1602600155      845.0   \n128838  0781444993      899.0   \n6920    1433541769      911.0   \n116386  1476707375      991.0   \n133640  0316118400     1050.0   \n13556   0307165205     1233.0   \n147744  0310709628     1257.0   \n217270  0684857219     1320.0   \n52753   0778801810     1335.0   \n\n                                                    imUrl  \\\n8538    http://ecx.images-amazon.com/images/i/51g1-kum...   \n109546  http://ecx.images-amazon.com/images/i/41ixxcxq...   \n128838  http://ecx.images-amazon.com/images/i/51fovcnu...   \n6920    http://ecx.images-amazon.com/images/i/91nqljug...   \n116386  http://ecx.images-amazon.com/images/i/51ltn5c1...   \n133640  http://ecx.images-amazon.com/images/i/51xn5vmv...   \n13556   http://ecx.images-amazon.com/images/i/91hga7ty...   \n147744  http://ecx.images-amazon.com/images/i/51qavk6q...   \n217270  http://ecx.images-amazon.com/images/i/81dlej6f...   \n52753   http://ecx.images-amazon.com/images/i/71zuniue...   \n\n                                                    title  \\\n8538    the jesus storybook bible: every story whisper...   \n109546  know your bible: all 66 books explained and ap...   \n128838                                   the action bible   \n6920    women of the word: how to study the bible with...   \n116386  the family of jesus (life-changing bible study...   \n133640  the flavor bible: the essential guide to culin...   \n13556                                the children's bible   \n147744  the beginner's bible: timeless children's stories   \n217270  the new encyclopedia of modern bodybuilding : ...   \n52753                                   the juicing bible   \n\n                                              description  price  \\\n8538    &#x201c;the jesus storybook bible is unlike an...   5.99   \n109546                                                NaN   0.99   \n128838  sergio cariello was born in brazil in 1964 and...  10.99   \n6920    &ldquo;wilkin&rsquo;s challenges to the status...   9.06   \n116386  \"kingsbury has produced a new riveting page-tu...   9.78   \n133640  starred review.  dornenberg and page's follow ...  16.99   \n13556                                                 NaN  11.55   \n147744  full of faith and fun!the bestselling children...   1.99   \n217270  arnold schwarzenegger hasn't competed as a bod...  16.99   \n52753   because experts recommend that we get a \"daily...  15.16   \n\n                                                  related  \n8538    {'also_bought': ['0310721636', '140032033x', '...  \n109546  {'also_bought': ['159789706x', '1597897043', '...  \n128838  {'also_bought': ['0781407273', '1434704831', '...  \n6920    {'also_bought': ['1433538881', '0802410324', '...  \n116386  {'also_bought': ['1451687478', '145168746x', '...  \n133640  {'also_bought': ['0470194960', '0789489392', '...  \n13556   {'also_bought': ['0842331743', '1557482640', '...  \n147744  {'also_bought': ['0842331743', '1557482640', '...  \n217270  {'also_bought': ['0671797484', 'b0000c3i6u', '...  \n52753   {'also_bought': ['1616084731', '1844839737', '...  ",
      "text/html": "<div>\n<style scoped>\n    .dataframe tbody tr th:only-of-type {\n        vertical-align: middle;\n    }\n\n    .dataframe tbody tr th {\n        vertical-align: top;\n    }\n\n    .dataframe thead th {\n        text-align: right;\n    }\n</style>\n<table border=\"1\" class=\"dataframe\">\n  <thead>\n    <tr style=\"text-align: right;\">\n      <th></th>\n      <th>asin</th>\n      <th>salesRank</th>\n      <th>imUrl</th>\n      <th>title</th>\n      <th>description</th>\n      <th>price</th>\n      <th>related</th>\n    </tr>\n  </thead>\n  <tbody>\n    <tr>\n      <th>8538</th>\n      <td>0310708257</td>\n      <td>151.0</td>\n      <td>http://ecx.images-amazon.com/images/i/51g1-kum...</td>\n      <td>the jesus storybook bible: every story whisper...</td>\n      <td>&amp;#x201c;the jesus storybook bible is unlike an...</td>\n      <td>5.99</td>\n      <td>{'also_bought': ['0310721636', '140032033x', '...</td>\n    </tr>\n    <tr>\n      <th>109546</th>\n      <td>1602600155</td>\n      <td>845.0</td>\n      <td>http://ecx.images-amazon.com/images/i/41ixxcxq...</td>\n      <td>know your bible: all 66 books explained and ap...</td>\n      <td>NaN</td>\n      <td>0.99</td>\n      <td>{'also_bought': ['159789706x', '1597897043', '...</td>\n    </tr>\n    <tr>\n      <th>128838</th>\n      <td>0781444993</td>\n      <td>899.0</td>\n      <td>http://ecx.images-amazon.com/images/i/51fovcnu...</td>\n      <td>the action bible</td>\n      <td>sergio cariello was born in brazil in 1964 and...</td>\n      <td>10.99</td>\n      <td>{'also_bought': ['0781407273', '1434704831', '...</td>\n    </tr>\n    <tr>\n      <th>6920</th>\n      <td>1433541769</td>\n      <td>911.0</td>\n      <td>http://ecx.images-amazon.com/images/i/91nqljug...</td>\n      <td>women of the word: how to study the bible with...</td>\n      <td>&amp;ldquo;wilkin&amp;rsquo;s challenges to the status...</td>\n      <td>9.06</td>\n      <td>{'also_bought': ['1433538881', '0802410324', '...</td>\n    </tr>\n    <tr>\n      <th>116386</th>\n      <td>1476707375</td>\n      <td>991.0</td>\n      <td>http://ecx.images-amazon.com/images/i/51ltn5c1...</td>\n      <td>the family of jesus (life-changing bible study...</td>\n      <td>\"kingsbury has produced a new riveting page-tu...</td>\n      <td>9.78</td>\n      <td>{'also_bought': ['1451687478', '145168746x', '...</td>\n    </tr>\n    <tr>\n      <th>133640</th>\n      <td>0316118400</td>\n      <td>1050.0</td>\n      <td>http://ecx.images-amazon.com/images/i/51xn5vmv...</td>\n      <td>the flavor bible: the essential guide to culin...</td>\n      <td>starred review.  dornenberg and page's follow ...</td>\n      <td>16.99</td>\n      <td>{'also_bought': ['0470194960', '0789489392', '...</td>\n    </tr>\n    <tr>\n      <th>13556</th>\n      <td>0307165205</td>\n      <td>1233.0</td>\n      <td>http://ecx.images-amazon.com/images/i/91hga7ty...</td>\n      <td>the children's bible</td>\n      <td>NaN</td>\n      <td>11.55</td>\n      <td>{'also_bought': ['0842331743', '1557482640', '...</td>\n    </tr>\n    <tr>\n      <th>147744</th>\n      <td>0310709628</td>\n      <td>1257.0</td>\n      <td>http://ecx.images-amazon.com/images/i/51qavk6q...</td>\n      <td>the beginner's bible: timeless children's stories</td>\n      <td>full of faith and fun!the bestselling children...</td>\n      <td>1.99</td>\n      <td>{'also_bought': ['0842331743', '1557482640', '...</td>\n    </tr>\n    <tr>\n      <th>217270</th>\n      <td>0684857219</td>\n      <td>1320.0</td>\n      <td>http://ecx.images-amazon.com/images/i/81dlej6f...</td>\n      <td>the new encyclopedia of modern bodybuilding : ...</td>\n      <td>arnold schwarzenegger hasn't competed as a bod...</td>\n      <td>16.99</td>\n      <td>{'also_bought': ['0671797484', 'b0000c3i6u', '...</td>\n    </tr>\n    <tr>\n      <th>52753</th>\n      <td>0778801810</td>\n      <td>1335.0</td>\n      <td>http://ecx.images-amazon.com/images/i/71zuniue...</td>\n      <td>the juicing bible</td>\n      <td>because experts recommend that we get a \"daily...</td>\n      <td>15.16</td>\n      <td>{'also_bought': ['1616084731', '1844839737', '...</td>\n    </tr>\n  </tbody>\n</table>\n</div>"
     },
     "execution_count": 5,
     "metadata": {},
     "output_type": "execute_result"
    }
   ],
   "source": [
    "top10_bible = books[books['title'].str.contains('bible') == True].head(10)\n",
    "top10_bible"
   ],
   "metadata": {
    "collapsed": false,
    "pycharm": {
     "name": "#%%\n"
    }
   }
  },
  {
   "cell_type": "code",
   "execution_count": 6,
   "outputs": [
    {
     "name": "stdout",
     "output_type": "stream",
     "text": [
      "Book embeddings loaded successfully: N = 1948370, dim = 8\n"
     ]
    }
   ],
   "source": [
    "from src.recsys.inference import *\n",
    "\n",
    "phase1 = BookEmbedding('../data/asin2emb')"
   ],
   "metadata": {
    "collapsed": false,
    "pycharm": {
     "name": "#%%\n"
    }
   }
  },
  {
   "cell_type": "code",
   "execution_count": 7,
   "outputs": [
    {
     "name": "stdout",
     "output_type": "stream",
     "text": [
      "Book ASIN: 1612185916\n",
      "Book title: harry potter page to screen: the complete filmmaking journey (collector's edition)\n",
      "Book embedding vector: phase1['1612185916'] = [1.0685951709747314, 0.4130036234855652, -0.7063324451446533, -0.05848280340433121, -0.8808063864707947, 0.4904128313064575, 0.44731274247169495, 0.3325827419757843]\n"
     ]
    }
   ],
   "source": [
    "print(f\"Book ASIN: {top10_harry_potter.asin.iloc[0]}\")\n",
    "print(f\"Book title: {top10_harry_potter.title.iloc[0]}\")\n",
    "print(f\"Book embedding vector: phase1['{top10_harry_potter.asin.iloc[0]}'] = {phase1[top10_harry_potter.asin.iloc[0]]}\")"
   ],
   "metadata": {
    "collapsed": false,
    "pycharm": {
     "name": "#%%\n"
    }
   }
  },
  {
   "cell_type": "code",
   "execution_count": 8,
   "outputs": [
    {
     "name": "stdout",
     "output_type": "stream",
     "text": [
      "Compare <harry potter page to screen: the complete filmmaking journey (collector's edition)> to other Harry Potter books: \n",
      "Similarity: 1.0 - <harry potter page to screen: the complete filmmaking journey (collector's edition)>\n",
      "Similarity: 0.77 - <harry potter and the chamber of secrets>\n",
      "Similarity: 0.877 - <harry potter and the goblet of fire>\n",
      "Similarity: 0.909 - <harry potter and the order of the phoenix>\n",
      "Similarity: 0.804 - <harry potter and the prisoner of azkaban>\n",
      "Similarity: 0.972 - <the hogwarts library (harry potter)>\n",
      "Similarity: 0.898 - <harry potter paperback box set (books 1-7)>\n",
      "Similarity: 0.865 - <harry potter and the chamber of secrets>\n",
      "Similarity: 0.932 - <the tales of beedle the bard, standard edition (harry potter)>\n",
      "Similarity: 0.881 - <harry potter and the prisoner of azkaban>\n"
     ]
    }
   ],
   "source": [
    "print(f\"Compare <{top10_harry_potter.title.iloc[0]}> to other Harry Potter books: \")\n",
    "scores = phase1._get_scores(top10_harry_potter.asin.iloc[0], top10_harry_potter.asin)\n",
    "for i in range(len(scores)):\n",
    "    print(f\"Similarity: {round(scores[i], 3)} - <{top10_harry_potter.title.iloc[i]}>\")"
   ],
   "metadata": {
    "collapsed": false,
    "pycharm": {
     "name": "#%%\n"
    }
   }
  },
  {
   "cell_type": "code",
   "execution_count": 9,
   "outputs": [
    {
     "name": "stdout",
     "output_type": "stream",
     "text": [
      "Compare <harry potter page to screen: the complete filmmaking journey (collector's edition)> to Mathematical Statistics books: \n",
      "Similarity: 0.096 - <mathematical statistics with applications>\n",
      "Similarity: 0.201 - <introduction to mathematical statistics and its applications, an (4th edition)>\n",
      "Similarity: 0.157 - <john e. freund's mathematical statistics with applications (7th edition)>\n",
      "Similarity: 0.181 - <mathematical statistics with applications (mathematical statistics (w/ applications))>\n",
      "Similarity: 0.147 - <john e. freund's mathematical statistics with applications (8th edition)>\n",
      "Similarity: 0.219 - <introduction to mathematical statistics (7th edition)>\n",
      "Similarity: 0.202 - <modern mathematical statistics with applications (springer texts in statistics)>\n",
      "Similarity: 0.299 - <introduction to mathematical statistics>\n",
      "Similarity: 0.274 - <introduction to probability and mathematical statistics (duxbury classic)>\n",
      "Similarity: 0.168 - <introduction to mathematical statistics and its applications (5th edition)>\n"
     ]
    }
   ],
   "source": [
    "print(f\"Compare <{top10_harry_potter.title.iloc[0]}> to Mathematical Statistics books: \")\n",
    "scores = phase1._get_scores(top10_harry_potter.asin.iloc[0], top10_math_stats.asin)\n",
    "for i in range(len(scores)):\n",
    "    print(f\"Similarity: {round(scores[i], 3)} - <{top10_math_stats.title.iloc[i]}>\")"
   ],
   "metadata": {
    "collapsed": false,
    "pycharm": {
     "name": "#%%\n"
    }
   }
  },
  {
   "cell_type": "code",
   "execution_count": 10,
   "outputs": [
    {
     "name": "stdout",
     "output_type": "stream",
     "text": [
      "Compare <harry potter page to screen: the complete filmmaking journey (collector's edition)> to book contains 'bible': \n",
      "Similarity: 0.283 - <the jesus storybook bible: every story whispers his name>\n",
      "Similarity: 0.427 - <know your bible: all 66 books explained and applied (value books)>\n",
      "Similarity: 0.55 - <the action bible>\n",
      "Similarity: 0.154 - <women of the word: how to study the bible with both our hearts and our minds>\n",
      "Similarity: 0.207 - <the family of jesus (life-changing bible study series)>\n",
      "Similarity: -0.129 - <the flavor bible: the essential guide to culinary creativity, based on the wisdom of america's most imaginative chefs>\n",
      "Similarity: 0.501 - <the children's bible>\n",
      "Similarity: 0.467 - <the beginner's bible: timeless children's stories>\n",
      "Similarity: 0.159 - <the new encyclopedia of modern bodybuilding : the bible of bodybuilding, fully updated and revised>\n",
      "Similarity: 0.178 - <the juicing bible>\n"
     ]
    }
   ],
   "source": [
    "print(f\"Compare <{top10_harry_potter.title.iloc[0]}> to book contains 'bible': \")\n",
    "scores = phase1._get_scores(top10_harry_potter.asin.iloc[0], top10_bible.asin)\n",
    "for i in range(len(scores)):\n",
    "    print(f\"Similarity: {round(scores[i], 3)} - <{top10_bible.title.iloc[i]}>\")"
   ],
   "metadata": {
    "collapsed": false,
    "pycharm": {
     "name": "#%%\n"
    }
   }
  },
  {
   "cell_type": "code",
   "execution_count": 11,
   "outputs": [
    {
     "name": "stdout",
     "output_type": "stream",
     "text": [
      "Say a person likes Harry Potter, what 'bible' book should we recommend to the person?\n",
      "Rank 0: <the children's bible>. It is most similar to <harry potter and the prisoner of azkaban>\n",
      "Rank 1: <the action bible>. It is most similar to <harry potter and the order of the phoenix>\n",
      "Rank 2: <the beginner's bible: timeless children's stories>. It is most similar to <harry potter and the order of the phoenix>\n",
      "Rank 3: <know your bible: all 66 books explained and applied (value books)>. It is most similar to <harry potter and the order of the phoenix>\n",
      "Rank 4: <the jesus storybook bible: every story whispers his name>. It is most similar to <harry potter and the order of the phoenix>\n",
      "Rank 5: <the family of jesus (life-changing bible study series)>. It is most similar to <harry potter and the prisoner of azkaban>\n",
      "Rank 6: <women of the word: how to study the bible with both our hearts and our minds>. It is most similar to <harry potter and the order of the phoenix>\n",
      "Rank 7: <the juicing bible>. It is most similar to <harry potter and the prisoner of azkaban>\n",
      "Rank 8: <the new encyclopedia of modern bodybuilding : the bible of bodybuilding, fully updated and revised>. It is most similar to <harry potter page to screen: the complete filmmaking journey (collector's edition)>\n",
      "Rank 9: <the flavor bible: the essential guide to culinary creativity, based on the wisdom of america's most imaginative chefs>. It is most similar to <harry potter and the prisoner of azkaban>\n"
     ]
    }
   ],
   "source": [
    "print(f\"Say a person likes Harry Potter, what 'bible' book should we recommend to the person?\")\n",
    "recommended = phase1.recommend(candidates=top10_bible.asin.to_list(), saved=top10_harry_potter.asin.to_list(), by='max')\n",
    "for i in range(len(recommended)):\n",
    "    asin, sum_stats = recommended[i]\n",
    "    print(f\"Rank {i}: <{books.title[books.asin == asin].values[0]}>. It is most similar to <{books.title[books.asin == sum_stats['most_similar_in_saved']].values[0]}>\")"
   ],
   "metadata": {
    "collapsed": false,
    "pycharm": {
     "name": "#%%\n"
    }
   }
  },
  {
   "cell_type": "code",
   "execution_count": 12,
   "outputs": [
    {
     "name": "stdout",
     "output_type": "stream",
     "text": [
      "Say a person likes mathematical statistics, what 'bible' book should we recommend to the person?\n",
      "Rank 0: <the flavor bible: the essential guide to culinary creativity, based on the wisdom of america's most imaginative chefs>. It is most similar to <john e. freund's mathematical statistics with applications (8th edition)>\n",
      "Rank 1: <the juicing bible>. It is most similar to <john e. freund's mathematical statistics with applications (8th edition)>\n",
      "Rank 2: <the children's bible>. It is most similar to <modern mathematical statistics with applications (springer texts in statistics)>\n",
      "Rank 3: <the new encyclopedia of modern bodybuilding : the bible of bodybuilding, fully updated and revised>. It is most similar to <modern mathematical statistics with applications (springer texts in statistics)>\n",
      "Rank 4: <the family of jesus (life-changing bible study series)>. It is most similar to <john e. freund's mathematical statistics with applications (8th edition)>\n",
      "Rank 5: <know your bible: all 66 books explained and applied (value books)>. It is most similar to <john e. freund's mathematical statistics with applications (8th edition)>\n",
      "Rank 6: <women of the word: how to study the bible with both our hearts and our minds>. It is most similar to <john e. freund's mathematical statistics with applications (8th edition)>\n",
      "Rank 7: <the action bible>. It is most similar to <modern mathematical statistics with applications (springer texts in statistics)>\n",
      "Rank 8: <the jesus storybook bible: every story whispers his name>. It is most similar to <modern mathematical statistics with applications (springer texts in statistics)>\n",
      "Rank 9: <the beginner's bible: timeless children's stories>. It is most similar to <introduction to mathematical statistics>\n"
     ]
    }
   ],
   "source": [
    "print(f\"Say a person likes mathematical statistics, what 'bible' book should we recommend to the person?\")\n",
    "recommended = phase1.recommend(candidates=top10_bible.asin.to_list(), saved=top10_math_stats.asin.to_list(), by='max')\n",
    "for i in range(len(recommended)):\n",
    "    asin, sum_stats = recommended[i]\n",
    "    print(f\"Rank {i}: <{books.title[books.asin == asin].values[0]}>. It is most similar to <{books.title[books.asin == sum_stats['most_similar_in_saved']].values[0]}>\")"
   ],
   "metadata": {
    "collapsed": false,
    "pycharm": {
     "name": "#%%\n"
    }
   }
  },
  {
   "cell_type": "code",
   "execution_count": 13,
   "outputs": [],
   "source": [
    "scores = phase1._get_scores(top10_harry_potter.asin.iloc[0], books.asin)"
   ],
   "metadata": {
    "collapsed": false,
    "pycharm": {
     "name": "#%%\n"
    }
   }
  }
 ],
 "metadata": {
  "kernelspec": {
   "display_name": "Python 3",
   "language": "python",
   "name": "python3"
  },
  "language_info": {
   "codemirror_mode": {
    "name": "ipython",
    "version": 2
   },
   "file_extension": ".py",
   "mimetype": "text/x-python",
   "name": "python",
   "nbconvert_exporter": "python",
   "pygments_lexer": "ipython2",
   "version": "2.7.6"
  }
 },
 "nbformat": 4,
 "nbformat_minor": 0
}